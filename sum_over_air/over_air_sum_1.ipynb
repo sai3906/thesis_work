{
 "cells": [
  {
   "cell_type": "code",
   "execution_count": 279,
   "metadata": {},
   "outputs": [],
   "source": [
    "import numpy  as np\n",
    "import matplotlib.pyplot as plt\n",
    "\n",
    "\n",
    "#at Tx\n",
    "k=10000  #number of nodes\n",
    "N=int(k/2)   #number of slots\n",
    "channel_gain=1.6\n",
    "error=np.array([])\n",
    "source=np.random.randn(k)   #node values\n",
    "#source\n"
   ]
  },
  {
   "cell_type": "code",
   "execution_count": 280,
   "metadata": {},
   "outputs": [
    {
     "name": "stdout",
     "output_type": "stream",
     "text": [
      "TRANSMITTED:: 104.26635113631369\n",
      "RECIEVED:: 104.71888738732734\n",
      "error: 0.9554190798147855\n"
     ]
    }
   ],
   "source": [
    "channel_coeff=np.random.rayleigh(1,k)\n",
    "values_tobe_transmitted=source[channel_coeff>channel_gain]\n",
    "non_transmitted=source[channel_coeff<=channel_gain]\n",
    "\n",
    "#transmitted=values_tobe_transmitted*channel_coeff[channel_coeff>channel_gain]\n",
    "transmitted=np.sum(values_tobe_transmitted*channel_coeff[channel_coeff>channel_gain])\n",
    "recieved=transmitted+np.random.randn()\n",
    "error=abs(recieved-transmitted)\n",
    "\n",
    "#print(\"node values where channel coeffs are greater than channel  threshold: \\n\",values_tobe_transmitted,len(values_tobe_transmitted))\n",
    "#print(\"node vaues less than channel threshold\\n\",non_transmitted,len(non_transmitted))\n",
    "print(\"TRANSMITTED::\",transmitted)\n",
    "print(\"RECIEVED::\",recieved)\n",
    "print(\"error:\",error1)"
   ]
  },
  {
   "cell_type": "code",
   "execution_count": 281,
   "metadata": {},
   "outputs": [
    {
     "name": "stdout",
     "output_type": "stream",
     "text": [
      "ERROR:: 6810.914488164696\n"
     ]
    }
   ],
   "source": [
    "for i in range(0,N):\n",
    "    if(len(non_transmitted)):\n",
    "        #print(i+2,\"th slot\")\n",
    "        source=non_transmitted\n",
    "        \n",
    "        #hk\n",
    "        channel_coeff=np.random.rayleigh(1,len(source))\n",
    "\n",
    "        #xk that to be transmitted in i th slot that are satisfied the condition\n",
    "        values_tobe_transmitted=source[channel_coeff>channel_gain]\n",
    "\n",
    "        #xk values that are not to transmitted in i th slot\n",
    "        non_transmitted=source[channel_coeff<=channel_gain]\n",
    "\n",
    "        #values transmitted over the channel i.e summation(xk*hk)\n",
    "        transmitted+=np.sum(values_tobe_transmitted*channel_coeff[channel_coeff>channel_gain])\n",
    "        #transmitted=np.sum(values_tobe_transmitted*channel_coeff[channel_coeff>channel_gain])\n",
    "        \n",
    "        #values recieved with gaussian noise\n",
    "        recieved+=transmitted+np.random.randn()\n",
    "\n",
    "\n",
    "        #print(\"node values where channel coeffs are greater than channel  threshold: \\n\",values_tobe_transmitted,len(values_tobe_transmitted))\n",
    "        #print(\"node vaues less than channel threshold\\n\",non_transmitted,len(non_transmitted))\n",
    "        \n",
    "        #print(\"TRANSMITTED::\",transmitted)\n",
    "        #print(\"RECIEVED::\",recieved)\n",
    "        #print(\"error in \",i+2,\"slot\",error[i+1])\n",
    "        #print(\"\\n\")\n",
    "        #transmitted=np.sum(values_tobe_transmitted*channel_coeff([channel_coeff>channel_gain]))+np.random.normal(0,1)\n",
    "error=recieved-np.sum(source)\n",
    "print(\"ERROR::\",error)"
   ]
  }
 ],
 "metadata": {
  "kernelspec": {
   "display_name": "Python 3",
   "language": "python",
   "name": "python3"
  },
  "language_info": {
   "codemirror_mode": {
    "name": "ipython",
    "version": 3
   },
   "file_extension": ".py",
   "mimetype": "text/x-python",
   "name": "python",
   "nbconvert_exporter": "python",
   "pygments_lexer": "ipython3",
   "version": "3.10.12"
  }
 },
 "nbformat": 4,
 "nbformat_minor": 2
}
