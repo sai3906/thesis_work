{
 "cells": [
  {
   "cell_type": "code",
   "execution_count": 99,
   "metadata": {},
   "outputs": [],
   "source": [
    "import numpy as np\n",
    "from matplotlib import pyplot as plt"
   ]
  },
  {
   "cell_type": "code",
   "execution_count": 130,
   "metadata": {},
   "outputs": [
    {
     "name": "stdout",
     "output_type": "stream",
     "text": [
      "Tx [1 2 3 4 5] : 15\n",
      "RX [-1.33314494  3.60396335  5.48939825  4.28946307  0.82713973] 12.876819452180062\n"
     ]
    }
   ],
   "source": [
    "pmax=2\n",
    "gain_threshold=1.1\n",
    "no_of_sources=5\n",
    "\n",
    "received=np.array([])\n",
    "\n",
    "source_main=np.array([i for i in range(1,no_of_sources+1)])\n",
    "source=source_main.copy()\n",
    "channel_coeff=np.random.rayleigh(1,len(source))\n",
    "transmitted_1=source[channel_coeff>gain_threshold]\n",
    "channel_gains=channel_coeff[channel_coeff>gain_threshold]\n",
    "pre_process=np.minimum((np.sqrt(pmax)) ,  gain_threshold/channel_gains)\n",
    "received= ((transmitted_1 * channel_gains * pre_process) + np.random.normal(0,1,len(transmitted_1)))\n",
    " \n",
    "#print(\"source:\",source)\n",
    "#print(transmitted_1)\n",
    "#print(received)\n",
    "#print(\"\\n\")\n",
    "no_of_slots=0\n",
    "\n",
    "\n",
    "while(len(source)>0):\n",
    "    no_of_slots=no_of_slots+1\n",
    "    source=source[channel_coeff<=gain_threshold]\n",
    "    \n",
    "    if len(source)==1:\n",
    "        channel_gains=np.random.rayleigh(1,len(source))\n",
    "        trasnmitted_1=source\n",
    "        pre_process=np.minimum((np.sqrt(pmax)) ,  gain_threshold/channel_gains)\n",
    "        received=np.append(received,((trasnmitted_1 * channel_gains * pre_process) + np.random.normal(0,1,len(trasnmitted_1))))\n",
    "        \n",
    "        #print(\"source:\",source)\n",
    "        #print(trasnmitted_1)\n",
    "        #print(received) \n",
    "        break \n",
    "     \n",
    "    if len(source)==0:\n",
    "        break\n",
    "    \n",
    "    channel_coeff=np.random.rayleigh(1,len(source))   \n",
    "    trasnmitted_1=source[channel_coeff>gain_threshold]\n",
    "    channel_gains=channel_coeff[channel_coeff>gain_threshold]\n",
    "    pre_process=np.minimum((np.sqrt(pmax)) ,  gain_threshold/channel_gains)\n",
    "    received=np.append(received,((trasnmitted_1 * channel_gains * pre_process) + np.random.normal(0,1,len(trasnmitted_1))))\n",
    "    \n",
    "    #print(\"source:\",source)\n",
    "    #print(trasnmitted_1)\n",
    "    #print(received)\n",
    "    #print(\"\\n\")\n",
    "post_process=((np.sum(np.mean(channel_gains*pre_process)))  /  ( (np.sum(np.sum(channel_gains*pre_process)))**2 +no_of_slots*np.var(channel_coeff) ))\n",
    "print(\"Tx\",source_main,\":\",np.sum(source_main))\n",
    "print(\"RX\", received,np.sum(received))\n",
    "\n",
    "#post_process=(np.sum(np.mean(pre_process*channel_coeff1))) / ( np.sum(np.var(pre_process*channel_coeff1)) + 2*(np.var(channel_coeff1)) )\n"
   ]
  },
  {
   "cell_type": "code",
   "execution_count": null,
   "metadata": {},
   "outputs": [],
   "source": []
  }
 ],
 "metadata": {
  "kernelspec": {
   "display_name": "Python 3",
   "language": "python",
   "name": "python3"
  },
  "language_info": {
   "codemirror_mode": {
    "name": "ipython",
    "version": 3
   },
   "file_extension": ".py",
   "mimetype": "text/x-python",
   "name": "python",
   "nbconvert_exporter": "python",
   "pygments_lexer": "ipython3",
   "version": "3.9.6"
  }
 },
 "nbformat": 4,
 "nbformat_minor": 2
}
