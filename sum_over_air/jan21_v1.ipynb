{
 "cells": [
  {
   "cell_type": "markdown",
   "metadata": {},
   "source": [
    "Its working fine for snr vs mse"
   ]
  },
  {
   "cell_type": "markdown",
   "metadata": {},
   "source": [
    "Channel coefficients are changing for each iteration\n",
    "but are repeating for each SNR"
   ]
  },
  {
   "cell_type": "code",
   "execution_count": 73,
   "metadata": {},
   "outputs": [],
   "source": [
    "import numpy as np\n",
    "import matplotlib.pyplot as plt"
   ]
  },
  {
   "cell_type": "code",
   "execution_count": 74,
   "metadata": {},
   "outputs": [],
   "source": [
    "no_of_sources=5\n",
    "threshold_prob=0.9999\n",
    "threshold_prob_range= np.linspace(0.1, 0.99,100)"
   ]
  },
  {
   "cell_type": "markdown",
   "metadata": {},
   "source": [
    "change random seed below"
   ]
  },
  {
   "cell_type": "code",
   "execution_count": 75,
   "metadata": {},
   "outputs": [],
   "source": [
    "def source1(no_of_users)->np.ndarray:\n",
    "    rnd_seed=19\n",
    "    np.random.seed(rnd_seed)\n",
    "    return np.random.uniform(-1, 1, (no_of_users))"
   ]
  },
  {
   "cell_type": "code",
   "execution_count": 76,
   "metadata": {},
   "outputs": [],
   "source": [
    "def pre_process(msg,cha_coeff1,power:float)->np.ndarray:\n",
    "    # print(\"\\t\\tx=\",msg)\n",
    "    # print(\"\\t\\th=\",cha_coeff1)\n",
    "    cha_coeff=np.array(cha_coeff1)\n",
    "    # print(\"\\t\\troot(p)=\",np.sqrt(power),\"\\n\\t\\t1/h=\",1/cha_coeff)\n",
    "    b=np.minimum(1 / (cha_coeff),np.sqrt(power))\n",
    "    # print(\"\\t\\tb=\",b)\n",
    "    return msg*b\n"
   ]
  },
  {
   "cell_type": "code",
   "execution_count": 77,
   "metadata": {},
   "outputs": [],
   "source": [
    "def awgn_mac_with_channel_coeff(symbols, snr_db,channel_coeff)->np.ndarray:\n",
    "    # print(\"\\t\\txb=\",symbols)\n",
    "    faded_symbols=symbols*channel_coeff# This corresponds to y = x_i * h_i\n",
    "    # print(\"\\t\\txbh:\",faded_symbols)\n",
    "    combined_faded_symbols = np.sum(faded_symbols)# This corresponds to y = ∑x_i * h_i\n",
    "    signal_power = np.mean(np.abs(combined_faded_symbols)**2)  # Signal power calculation\n",
    "    snr_linear = 10**(snr_db / 10.0)\n",
    "    noise_variance = signal_power / (2 * snr_linear)\n",
    "    noise =np.sqrt(noise_variance) * np.random.randn()# Noise generation\n",
    "    # print(\"\\t\\tn=\",noise)\n",
    "    return combined_faded_symbols + noise"
   ]
  },
  {
   "cell_type": "code",
   "execution_count": 78,
   "metadata": {},
   "outputs": [],
   "source": [
    "def demod(received_signal,cha_coeff,power:float)->np.ndarray:\n",
    "    # print(\"\\t\\tr=\",received_signal)\n",
    "    b=np.minimum(1 / (cha_coeff),np.sqrt(power))\n",
    "    a_opt=( np.sum(b*cha_coeff) )   /  ( (np.sum((b*cha_coeff)**2)) + (1) )\n",
    "    return received_signal*a_opt"
   ]
  },
  {
   "cell_type": "markdown",
   "metadata": {},
   "source": [
    "input parmaeters"
   ]
  },
  {
   "cell_type": "code",
   "execution_count": 79,
   "metadata": {},
   "outputs": [],
   "source": [
    "snr=20\n",
    "snr_range=np.arange(0,snr+1,5)\n",
    "\n",
    "available_power=0.004\n",
    "\n",
    "no_of_slots=4\n",
    "slots_range=np.arange(1,no_of_slots+1)\n",
    "iterations=2"
   ]
  },
  {
   "cell_type": "markdown",
   "metadata": {},
   "source": [
    "In below msg is same for all iterations and for different snr values too"
   ]
  },
  {
   "cell_type": "markdown",
   "metadata": {},
   "source": [
    "Channel coeffients are different for each iteration but same for different snr "
   ]
  },
  {
   "cell_type": "markdown",
   "metadata": {},
   "source": [
    "It is giving good results as expected"
   ]
  },
  {
   "cell_type": "code",
   "execution_count": 80,
   "metadata": {},
   "outputs": [
    {
     "name": "stdout",
     "output_type": "stream",
     "text": [
      "parameter:: 0 | chan threshold 0.4590436050264139 | power 0.004\n",
      "\u001b[1m iter  1 \u001b[0m\n",
      "\tslot 1\n",
      "\tcha coeff= [1.76405235 0.40015721 0.97873798 2.2408932  1.86755799] \n",
      "\n",
      "\tslot 2\n",
      "\tcha coeff= [0.95008842] \n",
      "\n",
      "\tslot 3\n",
      "\tcha coeff= [] \n",
      "\n",
      "\tslot 4\n",
      "\u001b[1m iter  2 \u001b[0m\n",
      "\tslot 1\n",
      "\tcha coeff= [ 1.62434536 -0.61175641 -0.52817175 -1.07296862  0.86540763] \n",
      "\n",
      "\tslot 2\n",
      "\tcha coeff= [] \n",
      "\n",
      "\tslot 3\n",
      "\tcha coeff= [] \n",
      "\n",
      "\tslot 4\n",
      "parameter:: 5 | chan threshold 0.4590436050264139 | power 0.004\n",
      "\u001b[1m iter  1 \u001b[0m\n",
      "\tslot 1\n",
      "\tcha coeff= [1.76405235 0.40015721 0.97873798 2.2408932  1.86755799] \n",
      "\n",
      "\tslot 2\n",
      "\tcha coeff= [0.95008842] \n",
      "\n",
      "\tslot 3\n",
      "\tcha coeff= [] \n",
      "\n",
      "\tslot 4\n",
      "\u001b[1m iter  2 \u001b[0m\n",
      "\tslot 1\n",
      "\tcha coeff= [ 1.62434536 -0.61175641 -0.52817175 -1.07296862  0.86540763] \n",
      "\n",
      "\tslot 2\n",
      "\tcha coeff= [] \n",
      "\n",
      "\tslot 3\n",
      "\tcha coeff= [] \n",
      "\n",
      "\tslot 4\n",
      "parameter:: 10 | chan threshold 0.4590436050264139 | power 0.004\n",
      "\u001b[1m iter  1 \u001b[0m\n",
      "\tslot 1\n",
      "\tcha coeff= [1.76405235 0.40015721 0.97873798 2.2408932  1.86755799] \n",
      "\n",
      "\tslot 2\n",
      "\tcha coeff= [0.95008842] \n",
      "\n",
      "\tslot 3\n",
      "\tcha coeff= [] \n",
      "\n",
      "\tslot 4\n",
      "\u001b[1m iter  2 \u001b[0m\n",
      "\tslot 1\n",
      "\tcha coeff= [ 1.62434536 -0.61175641 -0.52817175 -1.07296862  0.86540763] \n",
      "\n",
      "\tslot 2\n",
      "\tcha coeff= [] \n",
      "\n",
      "\tslot 3\n",
      "\tcha coeff= [] \n",
      "\n",
      "\tslot 4\n",
      "parameter:: 15 | chan threshold 0.4590436050264139 | power 0.004\n",
      "\u001b[1m iter  1 \u001b[0m\n",
      "\tslot 1\n",
      "\tcha coeff= [1.76405235 0.40015721 0.97873798 2.2408932  1.86755799] \n",
      "\n",
      "\tslot 2\n",
      "\tcha coeff= [0.95008842] \n",
      "\n",
      "\tslot 3\n",
      "\tcha coeff= [] \n",
      "\n",
      "\tslot 4\n",
      "\u001b[1m iter  2 \u001b[0m\n",
      "\tslot 1\n",
      "\tcha coeff= [ 1.62434536 -0.61175641 -0.52817175 -1.07296862  0.86540763] \n",
      "\n",
      "\tslot 2\n",
      "\tcha coeff= [] \n",
      "\n",
      "\tslot 3\n",
      "\tcha coeff= [] \n",
      "\n",
      "\tslot 4\n",
      "parameter:: 20 | chan threshold 0.4590436050264139 | power 0.004\n",
      "\u001b[1m iter  1 \u001b[0m\n",
      "\tslot 1\n",
      "\tcha coeff= [1.76405235 0.40015721 0.97873798 2.2408932  1.86755799] \n",
      "\n",
      "\tslot 2\n",
      "\tcha coeff= [0.95008842] \n",
      "\n",
      "\tslot 3\n",
      "\tcha coeff= [] \n",
      "\n",
      "\tslot 4\n",
      "\u001b[1m iter  2 \u001b[0m\n",
      "\tslot 1\n",
      "\tcha coeff= [ 1.62434536 -0.61175641 -0.52817175 -1.07296862  0.86540763] \n",
      "\n",
      "\tslot 2\n",
      "\tcha coeff= [] \n",
      "\n",
      "\tslot 3\n",
      "\tcha coeff= [] \n",
      "\n",
      "\tslot 4\n"
     ]
    }
   ],
   "source": [
    "mse=[]\n",
    "for snr in snr_range: \n",
    "    channel_threshold=np.sqrt( 2*np.log(  (1/ (1-(1-threshold_prob )**(1/no_of_slots))  )  ) )\n",
    "    print(\"parameter::\",snr,\"|\",\"chan threshold\",channel_threshold,\"|\",\"power\",available_power)\n",
    "    \n",
    "    \n",
    "    error=[]\n",
    "    for j in range(iterations):\n",
    "        print(\"\\033[1m iter \",j+1,\"\\033[0m\")\n",
    "        source=source1(no_of_sources)\n",
    "        # print(\"main source:\",source)\n",
    "        # source=source_main.copy()\n",
    "        recovered=np.array([])\n",
    "        \n",
    "        np.random.seed(j)\n",
    "        for i in slots_range:\n",
    "            if i<len(slots_range):\n",
    "                print(f\"\\tslot {i}\")\n",
    "                channel_coeff=np.random.randn(len(source))\n",
    "                print(\"\\tcha coeff=\",channel_coeff,\"\\n\")\n",
    "                \n",
    "                eligible_msgs=source[np.abs(channel_coeff)>channel_threshold]\n",
    "                \n",
    "                non_transmitted=source[np.abs(channel_coeff)<=channel_threshold]\n",
    "                \n",
    "                channel_gains=channel_coeff[np.abs(channel_coeff)>channel_threshold]\n",
    "                \n",
    "                transmitted=pre_process(eligible_msgs,channel_gains,available_power)\n",
    "                received= awgn_mac_with_channel_coeff(transmitted, snr,channel_gains)\n",
    "                \n",
    "                demod_signal=demod(received,channel_gains,available_power)\n",
    "                recovered=np.append(recovered,demod_signal)\n",
    "                # print(\"\\t\\tr`=\",demod_signal)\n",
    "                source=non_transmitted\n",
    "                # print(\"---------------------------------------------\")           \n",
    "            \n",
    "            # Check if it's the last slot\n",
    "            if i == len(slots_range):\n",
    "                print(f\"\\tslot {i}\")\n",
    "                channel_gains=np.random.randn(len(non_transmitted))\n",
    "                transmitted=pre_process(non_transmitted,channel_gains,available_power)\n",
    "                \n",
    "                received= awgn_mac_with_channel_coeff(transmitted, snr,channel_gains)\n",
    "                demod_signal=demod(received,channel_gains,available_power)\n",
    "                recovered=np.append(recovered,demod_signal)\n",
    "                # print(\"\\t\\tr`=\",demod_signal)\n",
    "                # print(\"---------------------------------------------\")\n",
    "        # print(\"recovered\",recovered)\n",
    "        error.append(np.mean((source.sum() - recovered) ** 2))\n",
    "    mse.append(np.mean(error))"
   ]
  },
  {
   "cell_type": "code",
   "execution_count": 81,
   "metadata": {},
   "outputs": [
    {
     "name": "stdout",
     "output_type": "stream",
     "text": [
      "snr: [ 0  5 10 15 20]\n",
      "mse: [0.35333261773885594, 0.18833540237211893, 0.11820912935431156, 0.08593946847935204, 0.07005875259190826]\n"
     ]
    },
    {
     "data": {
      "image/png": "[encoded data removed]",
      "text/plain": [
       "<Figure size 640x480 with 1 Axes>"
      ]
     },
     "metadata": {},
     "output_type": "display_data"
    }
   ],
   "source": [
    "print(\"snr:\",snr_range)\n",
    "print(\"mse:\",mse)\n",
    "plt.plot(snr_range,mse)\n",
    "plt.show()"
   ]
  }
 ],
 "metadata": {
  "kernelspec": {
   "display_name": "Python 3",
   "language": "python",
   "name": "python3"
  },
  "language_info": {
   "codemirror_mode": {
    "name": "ipython",
    "version": 3
   },
   "file_extension": ".py",
   "mimetype": "text/x-python",
   "name": "python",
   "nbconvert_exporter": "python",
   "pygments_lexer": "ipython3",
   "version": "3.8.10"
  }
 },
 "nbformat": 4,
 "nbformat_minor": 2
}
