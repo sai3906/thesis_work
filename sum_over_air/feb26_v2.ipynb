{
 "cells": [
  {
   "cell_type": "markdown",
   "metadata": {},
   "source": [
    "results are wrong"
   ]
  },
  {
   "cell_type": "code",
   "execution_count": 38,
   "metadata": {},
   "outputs": [],
   "source": [
    "import numpy as np\n",
    "import matplotlib.pyplot as plt"
   ]
  },
  {
   "cell_type": "code",
   "execution_count": 39,
   "metadata": {},
   "outputs": [],
   "source": [
    "def source1(no_of_users)->np.ndarray:\n",
    "    rnd_seed=16\n",
    "    np.random.seed(rnd_seed)\n",
    "    return np.random.uniform(-1, 1, (no_of_users))\n",
    "    # return np.array([0.1, 0.1, 0.1, 0.1, 0.1])"
   ]
  },
  {
   "cell_type": "markdown",
   "metadata": {},
   "source": [
    "Changed bi"
   ]
  },
  {
   "cell_type": "code",
   "execution_count": 40,
   "metadata": {},
   "outputs": [],
   "source": [
    "plotting=0\n",
    "comments=0\n",
    "\n",
    "no_of_sources=7\n",
    "no_of_slots=2\n",
    "threshold_prob=0.9999\n",
    "threshold_prob_range= np.linspace(0.1, 0.99,100)\n",
    "snr=15\n",
    "snr_range=np.arange(0,snr+1)\n",
    "available_power=0.1\n",
    "slots_range=np.arange(1,no_of_slots+1)\n",
    "\n",
    "iterations=100"
   ]
  },
  {
   "cell_type": "code",
   "execution_count": 41,
   "metadata": {},
   "outputs": [],
   "source": [
    "def pre_process1(msg: np.ndarray, cha_coeff: np.ndarray,alpha:float) -> np.ndarray:\n",
    "    b = 1/ (cha_coeff) # Standard preprocessing\n",
    "    # b=1\n",
    "    return msg * b\n",
    "\n",
    "def pre_process2(msg: np.ndarray, cha_coeff: np.ndarray,alpha:float) -> np.ndarray:\n",
    "    b = alpha / (cha_coeff) # Standard preprocessing\n",
    "    # b=1\n",
    "    return msg * b\n"
   ]
  },
  {
   "cell_type": "markdown",
   "metadata": {},
   "source": [
    "instead of ∑x_i b_i h_i + n  changed to  ∑x_i b_i h_i + n_i"
   ]
  },
  {
   "cell_type": "code",
   "execution_count": 42,
   "metadata": {},
   "outputs": [],
   "source": [
    "def awgn_mac_with_channel_coeff(symbols, snr_db,channel_coeff)->np.ndarray:\n",
    "    \n",
    "    faded_symbols=symbols*channel_coeff# This corresponds to y = x_i * h_i\n",
    "    \n",
    "    if(comments):\n",
    "        print(\"\\t\\txb=\",symbols)\n",
    "        print(\"\\t\\th=\",channel_coeff)\n",
    "        print(\"\\t\\txbh=\",faded_symbols,np.sum(faded_symbols))\n",
    "        pass\n",
    "    \n",
    "    signal_power = np.mean(np.abs(symbols) ** 2)   # Signal power calculation\n",
    "    snr_linear = 10**(snr_db / 10.0)\n",
    "    noise_variance = signal_power / (snr_linear)\n",
    "    noise =np.sqrt(noise_variance) * np.random.randn(*faded_symbols.shape)# Noise generation\n",
    "    \n",
    "    combined_faded_symbols =np.sum(faded_symbols) + np.sum(noise)\n",
    "    # noise=0\n",
    "    \n",
    "    if(comments):\n",
    "        print(\"\\t\\t∑xbh=\",combined_faded_symbols)\n",
    "        print(\"\\t\\tn=\",noise)\n",
    "        pass\n",
    "    return combined_faded_symbols,noise_variance"
   ]
  },
  {
   "cell_type": "markdown",
   "metadata": {},
   "source": [
    "changed bi"
   ]
  },
  {
   "cell_type": "code",
   "execution_count": 43,
   "metadata": {},
   "outputs": [],
   "source": [
    "def demod1(received_signal,cha_coeff,power:float,alpha:float,noise_variance:float)->np.ndarray:\n",
    "    if(comments):\n",
    "        print(\"\\t\\tr'=\",received_signal)\n",
    "        pass\n",
    "    alpha=1\n",
    "    b=np.minimum(alpha /(cha_coeff),np.sqrt(power)/(alpha))\n",
    "    a_opt=( np.sum(b*cha_coeff) )   /  ( (np.sum((b*cha_coeff)**2)) + (noise_variance) )\n",
    "    # a_opt=1\n",
    "    return received_signal*a_opt\n",
    "\n",
    "def demod2(received_signal,cha_coeff,power:float,alpha:float,noise_variance:float)->np.ndarray:\n",
    "    if(comments):\n",
    "        print(\"\\t\\tr'=\",received_signal)\n",
    "        pass\n",
    "    b=alpha*np.minimum(1 /(abs(cha_coeff)),(alpha)/np.sqrt(power))\n",
    "    a_opt=( np.sum(b*cha_coeff) )   /  ( (np.sum((b*cha_coeff)**2)) + (noise_variance) )\n",
    "    # a_opt=1\n",
    "    return received_signal*a_opt"
   ]
  },
  {
   "cell_type": "markdown",
   "metadata": {},
   "source": [
    "input parmaeters"
   ]
  },
  {
   "cell_type": "code",
   "execution_count": 44,
   "metadata": {},
   "outputs": [],
   "source": [
    "mse = []\n",
    "for snr in snr_range: \n",
    "    alpha=np.sqrt( 2* np.log(  (1/ (1-(1-threshold_prob )**(1/no_of_slots))  )  ) )\n",
    "    channel_threshold=alpha/ np.sqrt(available_power) \n",
    "    if(comments):   \n",
    "        print(\"^^^^^^^^^^^^^^^^^^^^^^^^^^^^^^^^^^^^^^^^^^^^^^^^^^^^^^^^^^^^^^^^^^^^^^^^^^^^^^^^^^^^^^^^^^^^\")\n",
    "        print(\"parameter::\",snr,\"power\",available_power,\"channel threshold\",alpha)\n",
    "        pass\n",
    "    \n",
    "    error=[]\n",
    "    for j in range(iterations):\n",
    "        # np.random.seed(j)\n",
    "        source_main=source1(no_of_sources)\n",
    "        if(comments):\n",
    "            print(\" iter \",j+1,100*\"*\")\n",
    "            print(\"main source:\",source_main,source_main.sum())\n",
    "        \n",
    "        source=source_main.copy()\n",
    "        \n",
    "        recovered_appending=np.array([])\n",
    "        for i in slots_range:\n",
    "#upto N-1 slots\n",
    "            if(i<no_of_slots):\n",
    "                if(comments):\n",
    "                    print(f\"\\tslot {i}\")\n",
    "                    pass\n",
    "                channel_coeff=np.random.randn(len(source))\n",
    "                eligible_msgs=source[np.abs(channel_coeff)>channel_threshold] \n",
    "                if(comments):\n",
    "                    print(f\"\\t\\tx={eligible_msgs}\")\n",
    "                    pass\n",
    "\n",
    "                if(plotting):\n",
    "                    # Plot the main messages with labels\n",
    "                    plt.figure(figsize=(4,3))\n",
    "                    plt.plot(np.arange(len(eligible_msgs)), eligible_msgs, \"o\", markersize=14, label=\"Main Messages\", color=\"blue\")\n",
    "                    plt.title(f\"messges for everys slot (Iteration {j+1}, SNR={snr} ,slot={i})\")\n",
    "                    plt.xlabel(\"Message Index\")\n",
    "                    plt.ylabel(\"Message Value\")\n",
    "                    plt.ylim(-1,1)\n",
    "                    plt.grid(True)\n",
    "                    pass\n",
    "\n",
    "                non_transmitted=source[np.abs(channel_coeff)<=channel_threshold]  \n",
    "\n",
    "                channel_gains=channel_coeff[np.abs(channel_coeff)>channel_threshold]                \n",
    "\n",
    "                transmitted=pre_process2(eligible_msgs,channel_gains,alpha)\n",
    "\n",
    "                if(plotting):\n",
    "                    # Plot pre-processed messages from the current slot on the combined plot\n",
    "                    # Adjust the x-index to match the length of the transmitted vector\n",
    "                    x_axis = np.arange(len(transmitted))\n",
    "                    plt.plot(x_axis, transmitted, \"o\", markersize=12)\n",
    "                    plt.ylim(-1,1)\n",
    "                    # plt.legend()\n",
    "                    pass\n",
    "\n",
    "                received,noise_var= awgn_mac_with_channel_coeff(transmitted, snr,channel_gains)\n",
    "                if(plotting):\n",
    "                    plt.plot( received, \"h\", markersize=10)\n",
    "                    plt.ylim(-1,1)\n",
    "                    pass   \n",
    "                \n",
    "                recovered_signal=demod1(received,channel_gains,available_power,alpha,noise_var)\n",
    "\n",
    "                recovered_appending=np.append(recovered_appending,recovered_signal)\n",
    "                \n",
    "                if(comments):\n",
    "                    print(\"\\t\\tr=\",recovered_signal)\n",
    "                    # print(\"\\t\\t---------------------------------------------\")\n",
    "                    pass\n",
    "                source=non_transmitted\n",
    "\n",
    "\n",
    "# if there are msgs to send\n",
    "            if len(non_transmitted) == 0:\n",
    "                break\n",
    "          \n",
    "#if some node haven't sent in prevous slots\n",
    "            if i==no_of_slots:\n",
    "                if(comments):\n",
    "                    print(f\"\\tslot {i}\")\n",
    "                    print(f\"\\t\\tx={non_transmitted}\")\n",
    "                    pass\n",
    "                \n",
    "                channel_gains=np.random.randn(len(non_transmitted))\n",
    "\n",
    "                if(plotting):\n",
    "                    plt.figure(figsize=(4,3))\n",
    "                    plt.plot(np.arange(len(non_transmitted)), non_transmitted, \"o\", markersize=14, label=\"Main Messages\", color=\"blue\")\n",
    "                    plt.title(f\"messges for everys slot (Iteration {j+1}, SNR={snr},slot={i})\")\n",
    "                    plt.xlabel(\"Message Index\")\n",
    "                    plt.ylabel(\"Message Value\")\n",
    "                    plt.ylim(-1,1)\n",
    "                    # plt.legend()\n",
    "                    plt.grid(True)\n",
    "                    pass\n",
    "                                \n",
    "                transmitted=pre_process2(non_transmitted,channel_gains,alpha)\n",
    "                if(plotting):\n",
    "                    # Plot pre-processed messages from the current slot on the combined plot\n",
    "                    # Adjust the x-index to match the length of the transmitted vector\n",
    "                    x_axis = np.arange(len(transmitted))\n",
    "                    plt.plot(x_axis, transmitted, \"o\", markersize=12)\n",
    "                    plt.ylim(-1,1)\n",
    "                    # plt.legend()\n",
    "                    pass\n",
    "                \n",
    "                received,noise_var= awgn_mac_with_channel_coeff(transmitted, snr,channel_gains)\n",
    "                \n",
    "                if(plotting):\n",
    "                    # Plot pre-processed messages from the current slot on the combined plot\n",
    "                    # Adjust the x-index to match the length of the transmitted vector\n",
    "                    x_axis = np.arange(len(transmitted))\n",
    "                    plt.plot(x_axis, received, \"h\", markersize=10)\n",
    "                    plt.ylim(-1,1)\n",
    "                    # plt.legend()\n",
    "                    pass\n",
    "                \n",
    "                recovered_signal=demod2(received,channel_gains,available_power,alpha,noise_var)\n",
    "                recovered_appending=np.append(recovered_appending,recovered_signal)\n",
    "\n",
    "                if(comments):\n",
    "                    print(\"\\t\\tr=\",recovered_signal)\n",
    "                    print(\"\\t\\t---------------------------------------------\")\n",
    "                    pass\n",
    "                \n",
    "        # print(\"\\t\\t______________________________________________________________________\")\n",
    "        error.append(np.mean((source_main.sum() - recovered_appending.sum()) ** 2))\n",
    "        if(comments):\n",
    "            print(\"\\t\\t\\tsource sum\",source_main.sum())\n",
    "            print(\"\\t\\t\\trecovered\",recovered_appending.sum())\n",
    "            print(\"\\t\\t\\terror\",error)\n",
    "            pass\n",
    "    mse.append(np.mean(error))\n",
    "    # print(\"mse\",mse)"
   ]
  },
  {
   "cell_type": "code",
   "execution_count": 45,
   "metadata": {},
   "outputs": [
    {
     "name": "stdout",
     "output_type": "stream",
     "text": [
      "\n",
      "SNR: [ 0  1  2  3  4  5  6  7  8  9 10 11 12 13 14 15]\n",
      "MSE: [1.3725896371121629, 1.3813397279201618, 1.3660416040192345, 1.3253867713171346, 1.258433623014985, 1.1649016601705207, 1.045591064062224, 0.9029222877730628, 0.7415530580348215, 0.5689710141930726, 0.39588481019892363, 0.23616792859241909, 0.10609306561801933, 0.022688914341868722, 0.0012922570766798103, 0.052719339742071686]\n"
     ]
    }
   ],
   "source": [
    "print(\"\\nSNR:\",snr_range)\n",
    "print(\"MSE:\",mse)"
   ]
  },
  {
   "cell_type": "code",
   "execution_count": 46,
   "metadata": {},
   "outputs": [
    {
     "data": {
      "image/png": "[encoded data removed]",
      "text/plain": [
       "<Figure size 640x480 with 1 Axes>"
      ]
     },
     "metadata": {},
     "output_type": "display_data"
    }
   ],
   "source": [
    "plt.plot(snr_range,mse)\n",
    "plt.show()"
   ]
  }
 ],
 "metadata": {
  "kernelspec": {
   "display_name": "Python 3",
   "language": "python",
   "name": "python3"
  },
  "language_info": {
   "codemirror_mode": {
    "name": "ipython",
    "version": 3
   },
   "file_extension": ".py",
   "mimetype": "text/x-python",
   "name": "python",
   "nbconvert_exporter": "python",
   "pygments_lexer": "ipython3",
   "version": "3.8.10"
  }
 },
 "nbformat": 4,
 "nbformat_minor": 2
}
