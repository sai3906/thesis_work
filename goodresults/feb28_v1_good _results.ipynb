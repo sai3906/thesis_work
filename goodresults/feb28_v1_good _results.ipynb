{
 "cells": [
  {
   "cell_type": "markdown",
   "metadata": {},
   "source": [
    "results are wrong"
   ]
  },
  {
   "cell_type": "markdown",
   "metadata": {},
   "source": [
    "placing of random seed is crucial "
   ]
  },
  {
   "cell_type": "code",
   "execution_count": 92,
   "metadata": {},
   "outputs": [],
   "source": [
    "import numpy as np\n",
    "import matplotlib.pyplot as plt"
   ]
  },
  {
   "cell_type": "code",
   "execution_count": 93,
   "metadata": {},
   "outputs": [],
   "source": [
    "def source1(no_of_users)->np.ndarray:\n",
    "    return np.random.uniform(-1, 1, (no_of_users))\n",
    "    # return np.array([0.1, 0.1, 0.1, 0.1, 0.1])"
   ]
  },
  {
   "cell_type": "markdown",
   "metadata": {},
   "source": [
    "Changed bi"
   ]
  },
  {
   "cell_type": "code",
   "execution_count": 94,
   "metadata": {},
   "outputs": [],
   "source": [
    "plotting=0\n",
    "comments=0\n",
    "\n",
    "no_of_sources=5\n",
    "no_of_slots=4\n",
    "threshold_prob=0.9999\n",
    "threshold_prob_range= np.linspace(0.1, 0.99,100)\n",
    "snr=50\n",
    "snr_range=np.arange(0,snr+1)\n",
    "available_power=0.4\n",
    "slots_range=np.arange(1,no_of_slots+1)\n",
    "\n",
    "iterations=1000"
   ]
  },
  {
   "cell_type": "code",
   "execution_count": 95,
   "metadata": {},
   "outputs": [],
   "source": [
    "def pre_process1(msg: np.ndarray, cha_coeff: np.ndarray,alpha:float,power:float) -> np.ndarray:   \n",
    "    # comments=1\n",
    "    b = alpha/ cha_coeff # Standard preprocessing\n",
    "    if(comments):\n",
    "        # print(\"\\t\\tb=\",b)\n",
    "        # print(\"\\t\\th=\",cha_coeff)\n",
    "        print(\"\\t\\tbh=\",b*cha_coeff)\n",
    "        pass \n",
    "    return msg * b\n",
    "\n",
    "def pre_process2(msg: np.ndarray, cha_coeff: np.ndarray,alpha:float,power:float) -> np.ndarray:\n",
    "    # comments=1\n",
    "    b = alpha *(cha_coeff/(np.abs(cha_coeff)) ) *np.minimum(1/ (np.abs(cha_coeff)),np.sqrt(power)/alpha) # Standard preprocessing\n",
    "    if(comments):\n",
    "        # print(\"\\t\\tb=\",b)\n",
    "        # print(\"\\t\\th=\",cha_coeff)\n",
    "        print(\"\\t\\tbh=\",b*cha_coeff)\n",
    "        pass \n",
    "    return msg * b\n"
   ]
  },
  {
   "cell_type": "markdown",
   "metadata": {},
   "source": [
    "instead of ∑x_i b_i h_i + n  changed to  ∑x_i b_i h_i + n_i"
   ]
  },
  {
   "cell_type": "code",
   "execution_count": 96,
   "metadata": {},
   "outputs": [],
   "source": [
    "def awgn_mac_with_channel_coeff(symbols, snr_db,channel_coeff)->np.ndarray:\n",
    "    \n",
    "    faded_symbols=symbols*channel_coeff# This corresponds to y = x_i * h_i\n",
    "    \n",
    "    if(comments):\n",
    "        print(\"\\t\\txb=\",symbols)\n",
    "        print(\"\\t\\th=\",channel_coeff)\n",
    "        print(\"\\t\\txbh=\",faded_symbols,np.sum(faded_symbols))\n",
    "        pass\n",
    "    \n",
    "    signal_power = np.mean(np.abs(symbols) ** 2)   # Signal power calculation\n",
    "    snr_linear = 10**(snr_db / 10.0)\n",
    "    noise_variance = signal_power / (snr_linear)\n",
    "    noise =np.sqrt(noise_variance) * np.random.randn(*faded_symbols.shape)# Noise generation\n",
    "    \n",
    "    combined_faded_symbols =np.sum(faded_symbols) + np.sum(noise)\n",
    "    # noise=0\n",
    "    \n",
    "    if(comments):\n",
    "        print(\"\\t\\t∑xbh=\",combined_faded_symbols)\n",
    "        print(\"\\t\\tn=\",noise)\n",
    "        pass\n",
    "    return combined_faded_symbols,noise_variance"
   ]
  },
  {
   "cell_type": "markdown",
   "metadata": {},
   "source": [
    "changed bi"
   ]
  },
  {
   "cell_type": "code",
   "execution_count": 97,
   "metadata": {},
   "outputs": [],
   "source": [
    "def demod1(received_signal,cha_coeff,power:float,alpha:float,noise_variance:float)->np.ndarray:\n",
    "    if(comments):\n",
    "        print(\"\\t\\tr'=\",received_signal)\n",
    "        pass\n",
    "    b=alpha / cha_coeff\n",
    "    a_opt=( np.sum(b*cha_coeff) )   /  ( (np.sum((b*cha_coeff)**2)) + (noise_variance) )\n",
    "    # a_opt=1\n",
    "    return received_signal*a_opt\n",
    "\n",
    "def demod2(received_signal,cha_coeff,power:float,alpha:float,noise_variance:float)->np.ndarray:\n",
    "    if(comments):\n",
    "        print(\"\\t\\tr'=\",received_signal)\n",
    "        pass\n",
    "    b=alpha*(cha_coeff/(np.abs(cha_coeff)) ) *np.minimum(1/ (np.abs(cha_coeff)),np.sqrt(power)/alpha) # Standard preprocessing\n",
    "    a_opt=( np.sum(b*cha_coeff) )   /  ( (np.sum((b*cha_coeff)**2)) + (noise_variance) )\n",
    "    # a_opt=1\n",
    "    return received_signal*a_opt"
   ]
  },
  {
   "cell_type": "markdown",
   "metadata": {},
   "source": [
    "input parmaeters"
   ]
  },
  {
   "cell_type": "code",
   "execution_count": 98,
   "metadata": {},
   "outputs": [],
   "source": [
    "mse = []\n",
    "for snr in snr_range: \n",
    "    rnd_seed=3\n",
    "    np.random.seed(rnd_seed)\n",
    "    alpha=np.sqrt( 2* np.log(  (1/ (1-(1-threshold_prob )**(1/no_of_slots))  )  ) )\n",
    "    # alpha=1\n",
    "    channel_threshold=alpha/ np.sqrt(available_power) \n",
    "    if(comments):   \n",
    "        print(\"^^^^^^^^^^^^^^^^^^^^^^^^^^^^^^^^^^^^^^^^^^^^^^^^^^^^^^^^^^^^^^^^^^^^^^^^^^^^^^^^^^^^^^^^^^^^\")\n",
    "        print(\"parameter::\",snr,\"power\",available_power,\"channel threshold\",channel_threshold)\n",
    "        pass\n",
    "    \n",
    "    error=[]\n",
    "    for j in range(iterations):\n",
    "        \n",
    "        # np.random.seed(np.random.randint(0,100000)) \n",
    "               \n",
    "        source_main=source1(no_of_sources)\n",
    "        if(comments):\n",
    "            print(\" iter \",j+1,100*\"*\")\n",
    "            print(\"source:\",source_main,source_main.sum())\n",
    "            \n",
    "        source=source_main.copy()\n",
    "        recovered_appending=np.array([])\n",
    "        for i in slots_range:\n",
    "        #upto N-1 slots\n",
    "            if(i<no_of_slots):\n",
    "                channel_coeff=np.random.randn(len(source))\n",
    "                if(comments):\n",
    "                    print(f\"\\tslot {i}\")\n",
    "                    print(f\"\\t\\th'={np.abs(channel_coeff)}\")\n",
    "                    pass\n",
    "                eligible_msgs=source[np.abs(channel_coeff)>channel_threshold] \n",
    "                # if there are msgs to send\n",
    "                if len(eligible_msgs) == 0:\n",
    "                    continue\n",
    "                \n",
    "                if(plotting):\n",
    "                    # Plot the main messages with labels\n",
    "                    plt.figure(figsize=(4,3))\n",
    "                    plt.plot(np.arange(len(eligible_msgs)), eligible_msgs, \"o\", markersize=14, label=\"Main Messages\", color=\"blue\")\n",
    "                    plt.title(f\"messges for everys slot (Iteration {j+1}, SNR={snr} ,slot={i})\")\n",
    "                    plt.xlabel(\"Message Index\")\n",
    "                    plt.ylabel(\"Message Value\")\n",
    "                    plt.ylim(-1,1)\n",
    "                    plt.grid(True)\n",
    "                    pass\n",
    "\n",
    "                non_transmitted=source[np.abs(channel_coeff)<=channel_threshold]  \n",
    "                \n",
    "                channel_gains=channel_coeff[np.abs(channel_coeff)>channel_threshold]  \n",
    "                \n",
    "                if(comments):\n",
    "                    print(f\"\\t\\tx={eligible_msgs}\")\n",
    "                    pass              \n",
    "\n",
    "                transmitted=pre_process1(eligible_msgs,channel_gains,alpha,available_power)\n",
    "\n",
    "                if(plotting):\n",
    "                    # Plot pre-processed messages from the current slot on the combined plot\n",
    "                    # Adjust the x-index to match the length of the transmitted vector\n",
    "                    x_axis = np.arange(len(transmitted))\n",
    "                    plt.plot(x_axis, transmitted, \"o\", markersize=12)\n",
    "                    plt.ylim(-1,1)\n",
    "                    # plt.legend()\n",
    "                    pass\n",
    "\n",
    "                received,noise_var= awgn_mac_with_channel_coeff(transmitted, snr,channel_gains)\n",
    "                if(plotting):\n",
    "                    plt.plot( received, \"h\", markersize=10)\n",
    "                    plt.ylim(-1,1)\n",
    "                    pass   \n",
    "                \n",
    "                recovered_signal=demod1(received,channel_gains,available_power,alpha,noise_var)\n",
    "\n",
    "                recovered_appending=np.append(recovered_appending,recovered_signal)\n",
    "                \n",
    "                if(comments):\n",
    "                    print(\"\\t\\tr=\",recovered_signal)\n",
    "                    # print(\"\\t\\t---------------------------------------------\")\n",
    "                    pass\n",
    "                source=non_transmitted\n",
    "\n",
    "\n",
    "\n",
    "          \n",
    "                #if some node haven't sent in prevous slots\n",
    "            if i==no_of_slots:\n",
    "                if len(source) == 0:\n",
    "                    continue                \n",
    "                if(comments):\n",
    "                    print(f\"\\tslot {i}\")\n",
    "                    print(f\"\\t\\tx={non_transmitted}\")\n",
    "                    pass\n",
    "                \n",
    "                channel_gains=np.random.randn(len(non_transmitted))\n",
    "\n",
    "                if(plotting):\n",
    "                    plt.figure(figsize=(4,3))\n",
    "                    plt.plot(np.arange(len(non_transmitted)), non_transmitted, \"o\", markersize=14, label=\"Main Messages\", color=\"blue\")\n",
    "                    plt.title(f\"messges for everys slot (Iteration {j+1}, SNR={snr},slot={i})\")\n",
    "                    plt.xlabel(\"Message Index\")\n",
    "                    plt.ylabel(\"Message Value\")\n",
    "                    plt.ylim(-1,1)\n",
    "                    # plt.legend()\n",
    "                    plt.grid(True)\n",
    "                    pass\n",
    "                                \n",
    "                transmitted=pre_process2(non_transmitted,channel_gains,alpha,available_power)\n",
    "                if(plotting):\n",
    "                    # Plot pre-processed messages from the current slot on the combined plot\n",
    "                    # Adjust the x-index to match the length of the transmitted vector\n",
    "                    x_axis = np.arange(len(transmitted))\n",
    "                    plt.plot(x_axis, transmitted, \"o\", markersize=12)\n",
    "                    plt.ylim(-1,1)\n",
    "                    # plt.legend()\n",
    "                    pass\n",
    "                \n",
    "                received,noise_var= awgn_mac_with_channel_coeff(transmitted, snr,channel_gains)\n",
    "                \n",
    "                if(plotting):\n",
    "                    # Plot pre-processed messages from the current slot on the combined plot\n",
    "                    # Adjust the x-index to match the length of the transmitted vector\n",
    "                    x_axis = np.arange(len(transmitted))\n",
    "                    plt.plot(x_axis, received, \"h\", markersize=10)\n",
    "                    plt.ylim(-1,1)\n",
    "                    # plt.legend()\n",
    "                    pass\n",
    "                \n",
    "                recovered_signal=demod2(received,channel_gains,available_power,alpha,noise_var)\n",
    "                recovered_appending=np.append(recovered_appending,recovered_signal)\n",
    "\n",
    "                if(comments):\n",
    "                    print(\"\\t\\tr=\",recovered_signal)\n",
    "                    print(\"\\t\\t---------------------------------------------\")\n",
    "                    pass\n",
    "                \n",
    "        # print(\"\\t\\t______________________________________________________________________\")\n",
    "        error.append(np.mean((source_main.sum() - recovered_appending.sum()) ** 2))\n",
    "        if(comments):\n",
    "            print(\"\\t\\t\\tsource sum\",source_main.sum())\n",
    "            print(\"\\t\\t\\trecovered\",recovered_appending.sum())\n",
    "            print(\"\\t\\t\\terror\",error)\n",
    "            pass\n",
    "    mse.append(np.mean(error))\n",
    "    # print(\"mse\",mse)"
   ]
  },
  {
   "cell_type": "markdown",
   "metadata": {},
   "source": [
    "bh>0 always"
   ]
  },
  {
   "cell_type": "code",
   "execution_count": 99,
   "metadata": {},
   "outputs": [
    {
     "name": "stdout",
     "output_type": "stream",
     "text": [
      "\n",
      "SNR: [ 0  1  2  3  4  5  6  7  8  9 10 11 12 13 14 15 16 17 18 19 20 21 22 23\n",
      " 24 25 26 27 28 29 30 31 32 33 34 35 36 37 38 39 40 41 42 43 44 45 46 47\n",
      " 48 49 50]\n",
      "MSE: [0.9991143420574492, 0.8603577626453177, 0.7379696492764468, 0.6312448815131121, 0.5390464786758489, 0.45998652590834177, 0.3925742337393296, 0.33532712884548704, 0.2868460842677215, 0.245858626496696, 0.21123735868145962, 0.18200112866279822, 0.1573058950309548, 0.13643070543095073, 0.11876248882619046, 0.10378187469404944, 0.09105104185157878, 0.08020362329839183, 0.07093602331600862, 0.0629992898531262, 0.056190951775847556, 0.05034675868689637, 0.045332711855433125, 0.041037924344173186, 0.037368711139541017, 0.03424405894152408, 0.03159241964392114, 0.029349658693092827, 0.027457932647847606, 0.025865229893419935, 0.02452528543980919, 0.02339759921903747, 0.02244735785383163, 0.021645163562826922, 0.02096657399011741, 0.020391521461450794, 0.01990369841551747, 0.019489977940980934, 0.01913990409344706, 0.018845251054806403, 0.01859962004360385, 0.01839802360091335, 0.01823640914119079, 0.018111109203766025, 0.01801827291680324, 0.017953404549845484, 0.017911164065158594, 0.01788553364026278, 0.017870328766942827, 0.01785989162748628, 0.017849728170759284]\n"
     ]
    }
   ],
   "source": [
    "print(\"\\nSNR:\",snr_range)\n",
    "print(\"MSE:\",mse)"
   ]
  },
  {
   "cell_type": "code",
   "execution_count": 100,
   "metadata": {},
   "outputs": [
    {
     "data": {
      "image/png": "[encoded data removed]",
      "text/plain": [
       "<Figure size 640x480 with 1 Axes>"
      ]
     },
     "metadata": {},
     "output_type": "display_data"
    }
   ],
   "source": [
    "plt.plot(snr_range,mse)\n",
    "plt.grid(True)\n",
    "plt.show()"
   ]
  }
 ],
 "metadata": {
  "kernelspec": {
   "display_name": "Python 3",
   "language": "python",
   "name": "python3"
  },
  "language_info": {
   "codemirror_mode": {
    "name": "ipython",
    "version": 3
   },
   "file_extension": ".py",
   "mimetype": "text/x-python",
   "name": "python",
   "nbconvert_exporter": "python",
   "pygments_lexer": "ipython3",
   "version": "3.8.10"
  }
 },
 "nbformat": 4,
 "nbformat_minor": 2
}
