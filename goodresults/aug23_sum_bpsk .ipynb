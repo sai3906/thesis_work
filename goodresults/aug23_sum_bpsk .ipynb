{
 "cells": [
  {
   "cell_type": "code",
   "execution_count": 27,
   "metadata": {},
   "outputs": [],
   "source": [
    "import numpy as np\n",
    "import  matplotlib.pyplot as plt\n",
    "import scipy.special as sp"
   ]
  },
  {
   "cell_type": "code",
   "execution_count": 28,
   "metadata": {},
   "outputs": [
    {
     "name": "stdout",
     "output_type": "stream",
     "text": [
      "msg\n",
      " [[1 1 1 ... 0 1 1]\n",
      " [1 1 0 ... 1 0 1]]\n"
     ]
    }
   ],
   "source": [
    "def source(no_of_users, no_of_bits):\n",
    "    # Generate a random binary matrix with shape (no_of_users, no_of_bits)\n",
    "    # Each element is either 0 or 1\n",
    "    return np.random.randint(0, 2, (no_of_users, no_of_bits))\n",
    "\n",
    "no_of_users = 2  # Define the number of users\n",
    "no_of_bits = 8000  # Define the number of bits per user\n",
    "\n",
    "# Generate the message bits as a binary matrix\n",
    "msg_bits1 = source(no_of_users, no_of_bits)  # Generating bit stream of size (no_of_users, no_of_bits)\n",
    "# Print the generated message bits\n",
    "print(\"msg\\n\", msg_bits1)  # Each row represents the bit stream for one user\n"
   ]
  },
  {
   "cell_type": "code",
   "execution_count": 29,
   "metadata": {},
   "outputs": [
    {
     "name": "stdout",
     "output_type": "stream",
     "text": [
      "[[ 1  1  1 ... -1  1  1]\n",
      " [ 1  1 -1 ...  1 -1  1]]\n"
     ]
    }
   ],
   "source": [
    "def mod(bits):\n",
    "    # Map binary values: 0 to -1 and 1 to 1\n",
    "    return 2 * bits - 1\n",
    "\n",
    "# Apply modulation to the message bits\n",
    "symbols = mod(msg_bits1)\n",
    "# Print the modulated symbols\n",
    "print(symbols)\n"
   ]
  },
  {
   "cell_type": "code",
   "execution_count": 30,
   "metadata": {},
   "outputs": [
    {
     "name": "stdout",
     "output_type": "stream",
     "text": [
      "[ 0.86541343  3.02580975 -0.22112116 ... -0.52792803  1.79040427\n",
      "  0.81367171]\n"
     ]
    }
   ],
   "source": [
    "def awgn(symbols, snr_db):\n",
    "    # Sum the columns of the symbols array to combine signals from different users\n",
    "    combined_symbols = np.sum(symbols, axis=0)  # This corresponds to y = ∑x_i + n\n",
    "    \n",
    "    # Print combined symbols for debugging (commented out)\n",
    "    # print(combined_symbols)   \n",
    "    \n",
    "    # Calculate the average power of the combined signal\n",
    "    signal_power = np.mean(np.abs(combined_symbols)**2)  # Signal power calculation\n",
    "\n",
    "    # Convert SNR from dB to linear scale\n",
    "    snr_linear = 10**(snr_db / 10.0)\n",
    "    \n",
    "    # Calculate noise variance based on the signal power and SNR\n",
    "    noise_variance = signal_power / (2 * snr_linear)\n",
    "\n",
    "    # Generate complex Gaussian noise with the calculated variance\n",
    "    noise = np.sqrt(noise_variance) * np.random.randn(len(combined_symbols))  # Generating noise with accordance with signal power\n",
    "\n",
    "    # Add the noise to the combined symbols and return the result\n",
    "    return combined_symbols + noise\n",
    "\n",
    "# Define the SNR in dB (array with one value in this case)\n",
    "snr_db = np.arange(0, 1, 1)\n",
    "\n",
    "# Pass the modulated symbols through the AWGN channel\n",
    "received_signal = awgn(symbols, snr_db)\n",
    "\n",
    "# Print the received signal after adding noise\n",
    "print(received_signal)\n"
   ]
  },
  {
   "cell_type": "code",
   "execution_count": 31,
   "metadata": {},
   "outputs": [
    {
     "name": "stdout",
     "output_type": "stream",
     "text": [
      "[0 2 0 ... 0 2 0]\n"
     ]
    }
   ],
   "source": [
    "def demod(received_signal):\n",
    "    # Define the possible symbols for decoding\n",
    "    symbols = [-2, 0, 2]  # The symbols that the noisy received signals will be decoded into\n",
    "\n",
    "    # Initialize an empty list to store the demodulated symbols\n",
    "    demodulated_symbols = []\n",
    "    \n",
    "    # Iterate over each received signal to decode it\n",
    "    for i in received_signal:\n",
    "        # Find the closest symbol to the received signal based on minimum distance\n",
    "        closest_symbol = min(symbols, key=lambda s: np.abs(i - s))  # Decoding by finding the minimum distance\n",
    "        demodulated_symbols.append(closest_symbol)  # Append the closest symbol to the list\n",
    "\n",
    "    # Convert the list of demodulated symbols to a numpy array and return it\n",
    "    return np.array(demodulated_symbols)\n",
    "\n",
    "# Perform demodulation on the received signal\n",
    "demod_symbols = demod(received_signal)\n",
    "\n",
    "# Print the demodulated symbols\n",
    "print(demod_symbols)\n"
   ]
  },
  {
   "cell_type": "code",
   "execution_count": 32,
   "metadata": {},
   "outputs": [
    {
     "name": "stdout",
     "output_type": "stream",
     "text": [
      "0.238125\n"
     ]
    }
   ],
   "source": [
    "def calculate_ber(msg, rec, no_of_users, no_of_bits):\n",
    "    # Modulate the original message bits to get the transmitted symbols\n",
    "    sym1 = mod(msg)\n",
    "    \n",
    "    # Sum the transmitted symbols across all users\n",
    "    combined_symbols = np.sum(sym1, axis=0)  # This is used to compare with the received symbols\n",
    "    \n",
    "    # Print statements for debugging (currently commented out)\n",
    "    # print(msg)\n",
    "    # msg_sum = np.sum(msg, axis=0)\n",
    "    # print(\"\\n\", msg_sum)\n",
    "    # print(\"\\n\", rec)\n",
    "\n",
    "    # Calculate the Bit Error Rate (BER) by comparing the combined transmitted symbols with the received symbols\n",
    "    ber = np.mean(combined_symbols != rec)  # BER is calculated by averaging the number of symbol errors\n",
    "    \n",
    "    return ber\n",
    "\n",
    "# Calculate the Bit Error Rate (BER) using the original message bits and the demodulated symbols\n",
    "BER = calculate_ber(msg_bits1, demod_symbols, no_of_users, no_of_bits)\n",
    "\n",
    "# Print the calculated BER\n",
    "print(BER)\n"
   ]
  },
  {
   "cell_type": "code",
   "execution_count": 33,
   "metadata": {},
   "outputs": [
    {
     "name": "stdout",
     "output_type": "stream",
     "text": [
      "[0.242, 0.191, 0.1595, 0.11675, 0.08425, 0.05525, 0.034875, 0.02075, 0.01, 0.00325, 0.001375, 0.0005]\n"
     ]
    }
   ],
   "source": [
    "# Function to simulate the system for different SNR values\n",
    "def simulate(snr_db_range, msg_bits, no_of_users, no_of_bits):\n",
    "    ber = []  # Initialize an empty list to store Symbol Error Rate (SER) for each SNR value\n",
    "\n",
    "    # Iterate over the range of SNR values\n",
    "    for snr_db in snr_db_range:\n",
    "        # Print the current SNR value for debugging (commented out)\n",
    "        # print(\"snr=\", snr_db)\n",
    "        \n",
    "        # Modulate the message bits to obtain transmitted symbols\n",
    "        transmitted_symbols = mod(msg_bits)  # Modulation: bit stream --> symbols\n",
    "        \n",
    "        # Pass the transmitted symbols through the AWGN channel to get received symbols\n",
    "        received_symbols = awgn(transmitted_symbols, snr_db)  # Received symbols: channel output = symbols + noise\n",
    "        \n",
    "        # Demodulate the received symbols to recover the transmitted symbols\n",
    "        demodulated_symbols = demod(received_symbols)  # Demodulation: noisy_symbols --> decoded symbols\n",
    "        \n",
    "        # Calculate the Symbol Error Rate (SER) and append it to the list\n",
    "        ber.append(calculate_ber(msg_bits, demodulated_symbols, no_of_users, no_of_bits))  # Calculate SER\n",
    "    \n",
    "        # Print BER for the current SNR value for debugging (commented out)\n",
    "        # print(ber)\n",
    "        # print(\"\\n\\n\")\n",
    "\n",
    "    return ber  # Return the list of SER values for the given range of SNR values\n",
    "\n",
    "# Define the range of SNR values (in dB) for the simulation\n",
    "snr_db_range = np.arange(0, 12, 1)  # Input for SNR range to plot\n",
    "\n",
    "# Run the simulation to obtain SER for each SNR value\n",
    "ber_bpsk_sum = simulate(snr_db_range, msg_bits1, no_of_users, no_of_bits)\n",
    "\n",
    "# Print the Bit Error Rate (BER) for each SNR value\n",
    "print(ber_bpsk_sum)\n"
   ]
  },
  {
   "cell_type": "code",
   "execution_count": 34,
   "metadata": {},
   "outputs": [
    {
     "data": {
      "image/png": "[encoded data removed]",
      "text/plain": [
       "<Figure size 640x480 with 1 Axes>"
      ]
     },
     "metadata": {},
     "output_type": "display_data"
    }
   ],
   "source": [
    "# Convert SNR values from dB to linear scale\n",
    "snr_lin = 10**(snr_db_range / 10)  # SNR in linear scale\n",
    "\n",
    "# Calculate the theoretical Bit Error Rate (BER) for BPSK with two users\n",
    "ser_bpsk_sum_theory = 0.75 * sp.erfc(np.sqrt(snr_lin / 2))  # Theoretical SER formula for two users BPSK\n",
    "\n",
    "# Plot the simulated BER values\n",
    "plt.semilogy(snr_db_range, ber_bpsk_sum, linestyle='-', color=\"g\", label='simulated')\n",
    "\n",
    "# Plot the theoretical BER values\n",
    "plt.semilogy(snr_db_range, ser_bpsk_sum_theory, linestyle='--', color='g', label='theoretical')\n",
    "\n",
    "plt.xlabel(\"SNR (dB)\")  \n",
    "plt.ylabel(\"BER\")       \n",
    "plt.legend()         \n",
    "plt.title(\"BPSK Two Users\") \n",
    "plt.grid(True)\n",
    "plt.show()\n"
   ]
  }
 ],
 "metadata": {
  "kernelspec": {
   "display_name": "Python 3",
   "language": "python",
   "name": "python3"
  },
  "language_info": {
   "codemirror_mode": {
    "name": "ipython",
    "version": 3
   },
   "file_extension": ".py",
   "mimetype": "text/x-python",
   "name": "python",
   "nbconvert_exporter": "python",
   "pygments_lexer": "ipython3",
   "version": "3.8.10"
  }
 },
 "nbformat": 4,
 "nbformat_minor": 2
}
