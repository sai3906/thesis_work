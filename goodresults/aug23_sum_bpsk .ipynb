{
 "cells": [
  {
   "cell_type": "code",
   "execution_count": 25,
   "metadata": {},
   "outputs": [],
   "source": [
    "import numpy as np\n",
    "import  matplotlib.pyplot as plt\n",
    "import scipy.special as sp"
   ]
  },
  {
   "cell_type": "code",
   "execution_count": 26,
   "metadata": {},
   "outputs": [
    {
     "name": "stdout",
     "output_type": "stream",
     "text": [
      "msg\n",
      " [[0 1 0 ... 0 0 0]\n",
      " [1 0 1 ... 1 1 1]]\n"
     ]
    }
   ],
   "source": [
    "def source(no_of_users,no_of_bits):\n",
    "    return np.random.randint(0, 2, (no_of_users,no_of_bits))\n",
    "no_of_users=2\n",
    "no_of_bits=8000\n",
    "msg_bits1=source(no_of_users,no_of_bits)\n",
    "\n",
    "print(\"msg\\n\",msg_bits1)"
   ]
  },
  {
   "cell_type": "code",
   "execution_count": 27,
   "metadata": {},
   "outputs": [
    {
     "name": "stdout",
     "output_type": "stream",
     "text": [
      "[[-1  1 -1 ... -1 -1 -1]\n",
      " [ 1 -1  1 ...  1  1  1]]\n"
     ]
    }
   ],
   "source": [
    "def mod(bits):\n",
    "    #mapping\n",
    "    return 2*bits-1\n",
    "\n",
    "symbols=mod(msg_bits1)\n",
    "print(symbols)"
   ]
  },
  {
   "cell_type": "code",
   "execution_count": 28,
   "metadata": {},
   "outputs": [
    {
     "name": "stdout",
     "output_type": "stream",
     "text": [
      "[-0.83655235  1.49758419 -2.83566344 ... -0.50062063  0.14538928\n",
      " -0.04599462]\n"
     ]
    }
   ],
   "source": [
    "def awgn(symbols, snr_db):\n",
    "\n",
    "    combined_symbols=np.sum(symbols,axis=0)\n",
    "    # print(combined_symbols)\n",
    "    signal_power = np.mean(combined_symbols**2)\n",
    "\n",
    "    snr_linear = 10**(snr_db / 10.0)\n",
    "    noise_variance =  signal_power / (2 * snr_linear)\n",
    "\n",
    "    noise = np.sqrt(noise_variance) * (np.random.randn(len(combined_symbols)))\n",
    "\n",
    "    \n",
    "    return combined_symbols + noise\n",
    "\n",
    "snr_db=np.arange(0,1,1)\n",
    "received_signal=awgn(symbols,snr_db)\n",
    "print(received_signal)"
   ]
  },
  {
   "cell_type": "code",
   "execution_count": 29,
   "metadata": {},
   "outputs": [
    {
     "name": "stdout",
     "output_type": "stream",
     "text": [
      "[ 0  2 -2 ...  0  0  0]\n"
     ]
    }
   ],
   "source": [
    "def demod(received_signal):\n",
    "    symbols = {\n",
    "        2:2,\n",
    "        0:0,\n",
    "        -2:-2\n",
    "    }\n",
    "\n",
    "    #demodulation\n",
    "    demodulated_bits=np.array([])\n",
    "    for i in received_signal:\n",
    "        closest_symbol = min(symbols.keys(), key=lambda s: np.abs(i - s))\n",
    "        demodulated_bits=np.append(demodulated_bits,(symbols[closest_symbol]))\n",
    "    received_signal1=np.array([int(i)  for i in demodulated_bits])\n",
    "\n",
    "    return received_signal1\n",
    "demod_symbols=demod(received_signal)\n",
    "print(demod_symbols)"
   ]
  },
  {
   "cell_type": "code",
   "execution_count": 30,
   "metadata": {},
   "outputs": [
    {
     "name": "stdout",
     "output_type": "stream",
     "text": [
      "0.241\n"
     ]
    }
   ],
   "source": [
    "def calculate_ber(msg,rec,no_of_users,no_of_bits):\n",
    "    sym1=mod(msg)\n",
    "    combined_symbols=np.sum(symbols,axis=0)\n",
    "    \n",
    "    \n",
    "    # print(msg)\n",
    "    # msg_sum=np.sum(msg,axis=0)\n",
    "    # print(\"\\n\",msg_sum)\n",
    "    # print(\"\\n\",rec)\n",
    "\n",
    "    ber=np.mean(combined_symbols!=rec)\n",
    "    return ber \n",
    "BER=calculate_ber(msg_bits1,demod_symbols,no_of_users,no_of_bits)\n",
    "print(BER)"
   ]
  },
  {
   "cell_type": "code",
   "execution_count": 31,
   "metadata": {},
   "outputs": [
    {
     "name": "stdout",
     "output_type": "stream",
     "text": [
      "[0.242875, 0.202625, 0.15625, 0.117625, 0.084625, 0.058, 0.03475, 0.019, 0.00975, 0.0035, 0.0015, 0.0005]\n"
     ]
    }
   ],
   "source": [
    "def simulate(snr_db_range, msg_bits,no_of_users,no_of_bits):\n",
    "    ber = []\n",
    "    # print(\"msg\\n\",msg_bits)\n",
    "\n",
    "    for snr_db in snr_db_range:\n",
    "        # print(\"snr=\",snr_db)\n",
    "        # Modulation        symbols-->bitsy])\n",
    "        transmitted_symbols =mod(msg_bits)\n",
    "        # print(\"TX\\n\",transmitted_symbols)\n",
    "        \n",
    "        \n",
    "        #channel output = bits+noie\n",
    "        received_symbols = awgn(transmitted_symbols,snr_db)\n",
    "        # print(\"sum(x)+n\\n\",received_symbols)\n",
    "        \n",
    "        # Demodulate the received signal        noisy_bits-->symbols\n",
    "        demodulated_symbols =demod(received_symbols)\n",
    "        # print(\"demod\\n\",demodulated_symbols)\n",
    "    \n",
    "        # Calculate BER\n",
    "        ber.append(calculate_ber(msg_bits, demodulated_symbols,no_of_users,no_of_bits))\n",
    "        # print(ber)\n",
    "        # print(\"\\n\\n\")\n",
    "\n",
    "    return ber\n",
    "\n",
    "snr_db_range=np.arange(0,12,1)\n",
    "ser_bpsk_sum=simulate(snr_db_range,msg_bits1,no_of_users,no_of_bits)\n",
    "print(ser_bpsk_sum)"
   ]
  },
  {
   "cell_type": "code",
   "execution_count": 32,
   "metadata": {},
   "outputs": [
    {
     "data": {
      "image/png": "[encoded data removed]",
      "text/plain": [
       "<Figure size 640x480 with 1 Axes>"
      ]
     },
     "metadata": {},
     "output_type": "display_data"
    }
   ],
   "source": [
    "snr_lin=10**(snr_db_range/10)\n",
    "ser_bpsk_sum_theory=0.75*sp.erfc(np.sqrt(snr_lin/2))\n",
    "plt.semilogy(snr_db_range,ser_bpsk_sum,  linestyle='-', color=\"g\", label='simulated')\n",
    "plt.semilogy(snr_db_range, ser_bpsk_sum_theory,  linestyle='--', color='g', label='theoritical')\n",
    "plt.legend()\n",
    "plt.show()"
   ]
  }
 ],
 "metadata": {
  "kernelspec": {
   "display_name": "Python 3",
   "language": "python",
   "name": "python3"
  },
  "language_info": {
   "codemirror_mode": {
    "name": "ipython",
    "version": 3
   },
   "file_extension": ".py",
   "mimetype": "text/x-python",
   "name": "python",
   "nbconvert_exporter": "python",
   "pygments_lexer": "ipython3",
   "version": "3.8.10"
  }
 },
 "nbformat": 4,
 "nbformat_minor": 2
}
