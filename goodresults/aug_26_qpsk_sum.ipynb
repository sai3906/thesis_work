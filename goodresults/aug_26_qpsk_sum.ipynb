{
 "cells": [
  {
   "cell_type": "code",
   "execution_count": 84,
   "metadata": {},
   "outputs": [],
   "source": [
    "import numpy as np\n",
    "import  matplotlib.pyplot as plt\n",
    "import scipy.special as sp"
   ]
  },
  {
   "cell_type": "code",
   "execution_count": 85,
   "metadata": {},
   "outputs": [
    {
     "name": "stdout",
     "output_type": "stream",
     "text": [
      "msg\n",
      " [[1 0 1 ... 0 1 0]\n",
      " [1 1 0 ... 1 1 1]]\n",
      "2\n"
     ]
    }
   ],
   "source": [
    "def source(no_of_users, no_of_bits):  # Function to generate a random bit stream\n",
    "    # Generate a random binary matrix of shape (no_of_users, no_of_bits)\n",
    "    # Each element is either 0 or 1\n",
    "    return np.random.randint(0, 2, (no_of_users, no_of_bits))\n",
    "\n",
    "no_of_users = 2  # Number of users\n",
    "no_of_bits = 8000  # Number of bits per user\n",
    "\n",
    "# Generate the message bits for the specified number of users and bits\n",
    "msg_bits1 = source(no_of_users, no_of_bits)        \n",
    "\n",
    "# Print the generated message bits\n",
    "print(\"msg\\n\", msg_bits1)\n",
    "# Print the length of the message bits array (which corresponds to the number of users)\n",
    "print(len(msg_bits1))\n"
   ]
  },
  {
   "cell_type": "code",
   "execution_count": 86,
   "metadata": {},
   "outputs": [
    {
     "name": "stdout",
     "output_type": "stream",
     "text": [
      "[[ 1.-1.j -1.-1.j -1.-1.j ...  1.+1.j  1.+1.j  1.-1.j]\n",
      " [-1.-1.j -1.+1.j  1.-1.j ...  1.-1.j -1.-1.j -1.-1.j]]\n"
     ]
    }
   ],
   "source": [
    "def mod(bits):\n",
    "    # Mapping dictionary to convert pairs of bits to QPSK symbols\n",
    "    mapping = {                     \n",
    "        (0, 0): 1 + 1j,  # Maps (0, 0) to the complex symbol 1 + j\n",
    "        (0, 1): -1 + 1j, # Maps (0, 1) to the complex symbol -1 + j\n",
    "        (1, 0): 1 - 1j,  # Maps (1, 0) to the complex symbol 1 - j\n",
    "        (1, 1): -1 - 1j  # Maps (1, 1) to the complex symbol -1 - j\n",
    "    }\n",
    "    \n",
    "    # Initialize an empty array to store the modulated symbols\n",
    "    symbols = np.array([])\n",
    "    \n",
    "    # Iterate over each user\n",
    "    for i in range(0, len(bits), 1):\n",
    "        # Iterate over each bit pair in the bit stream for the user\n",
    "        for j in range(0, len(bits[0]), 2):\n",
    "            bit_pair = (bits[i][j], bits[i][j+1])  # Select a pair of bits\n",
    "            # Map the bit pair to the corresponding QPSK symbol and append to symbols array\n",
    "            symbols = np.append(symbols, mapping[bit_pair])\n",
    "        #print(\"mod\",modulated_bits)  # This line is commented out; it would print each user's symbols\n",
    "\n",
    "    # Return the array of modulated symbols\n",
    "    return symbols\n",
    "\n",
    "# Modulate the message bits for all users and reshape the output to match the number of users\n",
    "symbols = mod(msg_bits1).reshape(no_of_users, int(no_of_bits/2))\n",
    "\n",
    "# Print the modulated symbols\n",
    "print(symbols)\n"
   ]
  },
  {
   "cell_type": "code",
   "execution_count": 87,
   "metadata": {},
   "outputs": [
    {
     "name": "stdout",
     "output_type": "stream",
     "text": [
      "[ 1.78702717+1.08854736j -0.95828254+1.36693947j -2.40280522-3.85800432j\n",
      " ...  2.0830801 +0.99067397j -0.3257739 -1.36193812j\n",
      "  0.44988691-3.84650352j]\n"
     ]
    }
   ],
   "source": [
    "import numpy as np  # Ensure numpy is imported for array operations\n",
    "\n",
    "def awgn(symbols, snr_db):\n",
    "    # Sum the columns of the symbols array to combine signals from different users\n",
    "    combined_symbols = np.sum(symbols, axis=0)  # This corresponds to the expression y = ∑x_i + n\n",
    "    # print(combined_symbols)\n",
    "    \n",
    "    # Calculate the average power of the combined signal\n",
    "    signal_power = np.mean(np.abs(combined_symbols)**2)\n",
    "    # print(\"signal power\", signal_power)\n",
    "\n",
    "    # Convert the SNR from dB to linear scale\n",
    "    snr_linear = 10**(snr_db / 10.0)\n",
    "    # print(snr_linear)\n",
    "    \n",
    "    # Calculate the noise variance based on the signal power and SNR\n",
    "    noise_variance = signal_power / (2 * snr_linear)\n",
    "    # print(\"noise_var\", noise_variance)\n",
    "\n",
    "    # Generate complex Gaussian noise with the calculated variance\n",
    "    noise = np.sqrt(noise_variance) * (np.random.randn(len(combined_symbols)) + 1j * np.random.randn(len(combined_symbols)))\n",
    "    # print(noise)\n",
    "\n",
    "    # Add the noise to the combined signal and return the result\n",
    "    return combined_symbols + noise\n",
    "\n",
    "# Define the SNR in dB (array with one value in this case)\n",
    "snr_db = np.arange(0, 1, 1)\n",
    "\n",
    "# Pass the modulated symbols through the AWGN channel\n",
    "received_signal = awgn(symbols, snr_db)\n",
    "\n",
    "# Print the received signal after adding noise\n",
    "print(received_signal)\n"
   ]
  },
  {
   "cell_type": "code",
   "execution_count": 88,
   "metadata": {},
   "outputs": [
    {
     "name": "stdout",
     "output_type": "stream",
     "text": [
      "[ 2.+2.j  0.+2.j -2.-2.j ...  2.+0.j -0.-2.j -0.-2.j]\n"
     ]
    }
   ],
   "source": [
    "def demod(received_signal):\n",
    "    # Define the possible symbols for decoding\n",
    "    # These symbols represent the expected values after summing the transmitted signals and adding noise\n",
    "    symbols = [\n",
    "        2 + 2j,  # Represents a possible decoded symbol\n",
    "        2j,\n",
    "        0,\n",
    "        2,\n",
    "        -2 + 2j,\n",
    "        -2,\n",
    "        -2 - 2j,\n",
    "        -2j,\n",
    "        2 - 2j\n",
    "    ]  # The (∑x_i + noise) symbols will be decoded into these possible symbols\n",
    "\n",
    "    # Demodulation\n",
    "    demodulated_symbols = []\n",
    "    for i in received_signal:\n",
    "        # Find the closest symbol to the received signal based on minimum distance\n",
    "        closest_symbol = min(symbols, key=lambda s: np.abs(i - s))  # Decoding summed symbols using minimum distance\n",
    "        demodulated_symbols.append(closest_symbol)\n",
    "\n",
    "    # Return the array of demodulated symbols\n",
    "    return np.array(demodulated_symbols)\n",
    "\n",
    "# Perform demodulation on the received signal\n",
    "demod_symbols = demod(received_signal)\n",
    "\n",
    "# Print the demodulated symbols\n",
    "print(demod_symbols)\n"
   ]
  },
  {
   "cell_type": "code",
   "execution_count": 89,
   "metadata": {},
   "outputs": [
    {
     "name": "stdout",
     "output_type": "stream",
     "text": [
      "0.604\n"
     ]
    }
   ],
   "source": [
    "def calculate_ber(msg, rec, no_of_users, no_of_bits):\n",
    "    # Modulate the original message bits to obtain the transmitted symbols\n",
    "    sym1 = mod(msg)\n",
    "    \n",
    "    # Sum the transmitted symbols across all users to simulate the combined received signal without noise\n",
    "    combined_symbols = np.sum(symbols, axis=0)  # This is used to compare with the decoded sum symbols\n",
    "    \n",
    "    # Print statements for debugging (currently commented out)\n",
    "    # print(msg)\n",
    "    # msg_sum = np.sum(msg, axis=0)\n",
    "    # print(\"\\n\", msg_sum)\n",
    "    # print(\"\\n\", rec)\n",
    "\n",
    "    # Calculate the Bit Error Rate (BER) by comparing the combined transmitted symbols with the received symbols\n",
    "    ber = np.mean(combined_symbols != rec)  # BER is calculated by averaging the number of symbol errors\n",
    "    \n",
    "    return ber\n",
    "\n",
    "# Calculate the Bit Error Rate (BER) for the given message and received symbols\n",
    "BER = calculate_ber(msg_bits1, demod_symbols, no_of_users, no_of_bits)\n",
    "\n",
    "# Print the calculated BER\n",
    "print(BER)\n"
   ]
  },
  {
   "cell_type": "code",
   "execution_count": 90,
   "metadata": {},
   "outputs": [
    {
     "name": "stdout",
     "output_type": "stream",
     "text": [
      "[0.5955, 0.5215, 0.48725, 0.4235, 0.36225, 0.27675, 0.2195, 0.17275, 0.108, 0.05775, 0.037, 0.02, 0.00825, 0.00225, 0.0]\n"
     ]
    }
   ],
   "source": [
    "def simulate(snr_db_range, msg_bits, no_of_users, no_of_bits):\n",
    "    ber = []  # Initialize an empty list to store the Bit Error Rate (BER) for each SNR value\n",
    "    # print(\"msg\\n\", msg_bits)\n",
    "\n",
    "    # Iterate over the range of SNR values provided\n",
    "    for snr_db in snr_db_range:\n",
    "        # print(\"snr=\", snr_db)\n",
    "        \n",
    "        # Modulate the message bits to QPSK symbols for each user\n",
    "        transmitted_symbols = mod(msg_bits).reshape(no_of_users, int(no_of_bits / 2))  # Modulation: bit stream --> symbols\n",
    "        # print(\"TX\\n\", transmitted_symbols)\n",
    "        \n",
    "        # Pass the transmitted symbols through the AWGN channel\n",
    "        received_symbols = awgn(transmitted_symbols, snr_db)  # Channel output = transmitted symbols + noise\n",
    "        \n",
    "        # Demodulate the received noisy symbols to recover the transmitted symbols\n",
    "        demodulated_symbols = demod(received_symbols)  # Demodulation: noisy_symbols --> decoded symbols\n",
    "        # print(\"demod\\n\", demodulated_symbols)\n",
    "    \n",
    "        # Calculate the Bit Error Rate (BER) for the current SNR value\n",
    "        ber.append(calculate_ber(msg_bits, demodulated_symbols, no_of_users, no_of_bits))\n",
    "        # print(ber)\n",
    "        # print(\"\\n\\n\")\n",
    "\n",
    "    return ber  # Return the list of BER values for the given range of SNR values\n",
    "\n",
    "# Define the range of SNR values (in dB) over which to simulate\n",
    "snr_db_range = np.arange(0, 15, 1)  # Input for SNR range to plot\n",
    "\n",
    "# Run the simulation over the specified SNR range\n",
    "ser_qpsk_sum = simulate(snr_db_range, msg_bits1, no_of_users, no_of_bits)\n",
    "\n",
    "# Print the calculated BER values for the SNR range\n",
    "print(ser_qpsk_sum)\n"
   ]
  },
  {
   "cell_type": "code",
   "execution_count": 91,
   "metadata": {},
   "outputs": [
    {
     "data": {
      "image/png": "[encoded data removed]",
      "text/plain": [
       "<Figure size 640x480 with 1 Axes>"
      ]
     },
     "metadata": {},
     "output_type": "display_data"
    }
   ],
   "source": [
    "# Convert SNR from dB to linear scale\n",
    "snr_lin = 10**(snr_db_range / 10)  # SNR (linear scale) = 10^(SNR (dB)/10)\n",
    "\n",
    "# Theoretical Symbol Error Rate (SER) for QPSK with two users\n",
    "ser_qpsk_sum_theory = 1.5 * sp.erfc(np.sqrt(snr_lin / 4))  # Theoretical formula for QPSK SER with two users\n",
    "\n",
    "# Plot the simulated SER (Bit Error Rate) on a semi-logarithmic scale\n",
    "plt.semilogy(snr_db_range, ser_qpsk_sum, linestyle='-', color=\"g\", label='Simulated')\n",
    "# Plot the theoretical SER on the same plot for comparison\n",
    "plt.semilogy(snr_db_range, ser_qpsk_sum_theory, linestyle='--', color='g', label='Theoretical')\n",
    "\n",
    "\n",
    "plt.xlabel(\"SNR\")\n",
    "plt.ylabel(\"BER\")\n",
    "plt.title(\"QPSK for Two Users\")\n",
    "plt.grid(True)\n",
    "plt.legend()\n",
    "plt.show()\n"
   ]
  }
 ],
 "metadata": {
  "kernelspec": {
   "display_name": "Python 3",
   "language": "python",
   "name": "python3"
  },
  "language_info": {
   "codemirror_mode": {
    "name": "ipython",
    "version": 3
   },
   "file_extension": ".py",
   "mimetype": "text/x-python",
   "name": "python",
   "nbconvert_exporter": "python",
   "pygments_lexer": "ipython3",
   "version": "3.8.10"
  }
 },
 "nbformat": 4,
 "nbformat_minor": 2
}
