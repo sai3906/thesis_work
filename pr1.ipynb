{
 "cells": [
  {
   "cell_type": "code",
   "execution_count": 635,
   "metadata": {},
   "outputs": [],
   "source": [
    "import numpy as np\n",
    "from matplotlib import pyplot as plt\n",
    "\n",
    "no_of_sources=8"
   ]
  },
  {
   "cell_type": "code",
   "execution_count": 636,
   "metadata": {},
   "outputs": [
    {
     "name": "stdout",
     "output_type": "stream",
     "text": [
      "source: [1 2 3 4 5 6 7 8]\n",
      "index: [False  True False False False False  True False]\n",
      "transmitted1--> [2 7]\n",
      "channel_coeff1--> [1.46442992 1.20574946]\n",
      "recieved1--> [ 69.24600532 324.61097806]\n",
      "\n",
      "\n"
     ]
    }
   ],
   "source": [
    "pmax=2\n",
    "gain_threshold=1.1\n",
    "\n",
    "\n",
    "source=np.array([i for i in range(1,no_of_sources+1)])\n",
    "print(\"source:\",source)\n",
    "\n",
    "channel_coeff=np.random.rayleigh(1,len(source))\n",
    "#print(\"channel_coeff:\",channel_coeff)\n",
    "\n",
    "index=channel_coeff>gain_threshold\n",
    "print(\"index:\",index)\n",
    " \n",
    " \n",
    "   \n",
    "transmitted_1=source[index]\n",
    "print(\"transmitted1-->\",transmitted_1)\n",
    "\n",
    "channel_coeff1=channel_coeff[index]\n",
    "print(\"channel_coeff1-->\",channel_coeff1)\n",
    "\n",
    "pre_process=np.minimum((np.sqrt(pmax)) ,  gain_threshold/channel_coeff1)\n",
    "#print(\"pre_process\",pre_process)\n",
    "\n",
    "post_process=(np.sum(np.mean(pre_process*channel_coeff1))) / ( np.sum(np.var(pre_process*channel_coeff1)) + 2*(np.var(channel_coeff1)) )\n",
    "#print(\"post process\",post_process)\n",
    "    \n",
    "receieved =   post_process * ( (transmitted_1 * channel_coeff1 * pre_process) + np.random.normal(0,1,len(transmitted_1)))\n",
    "print(\"recieved1-->\",receieved)\n",
    "\n",
    "print(\"\\n\")\n"
   ]
  },
  {
   "cell_type": "code",
   "execution_count": 637,
   "metadata": {},
   "outputs": [
    {
     "name": "stdout",
     "output_type": "stream",
     "text": [
      "source: [1 3 4 5 6 8]\n",
      "index: [False False False  True  True  True]\n",
      "transmitted2--> [5 6 8]\n",
      "channel_coeff2--> [1.77688564 1.34159001 2.18534781]\n",
      "recieved--> [29.1301851  32.3289999  41.50845431]\n",
      "\n",
      "\n"
     ]
    }
   ],
   "source": [
    "source=source[channel_coeff<=gain_threshold]\n",
    "print(\"source:\",source)\n",
    "\n",
    "channel_coeff=np.random.rayleigh(1,len(source))\n",
    "#print(\"channel_coeff:\",channel_coeff)\n",
    "\n",
    "index=channel_coeff>gain_threshold\n",
    "print(\"index:\",index)\n",
    " \n",
    "   \n",
    "trasnmitted_2=source[index]\n",
    "print(\"transmitted2-->\",trasnmitted_2)\n",
    "\n",
    "channel_coeff1=channel_coeff[index]\n",
    "print(\"channel_coeff2-->\",channel_coeff1)\n",
    "\n",
    "pre_process=np.minimum((np.sqrt(pmax)) ,  gain_threshold/channel_coeff1)\n",
    "#print(\"pre_process\",pre_process)\n",
    "\n",
    "post_process=(np.sum(np.mean(pre_process*channel_coeff1))) / ( np.sum(np.var(pre_process*channel_coeff1)) + 2*(np.var(channel_coeff1)) )\n",
    "#print(\"post process\",post_process)\n",
    "    \n",
    "\n",
    "    \n",
    "receieved =   post_process * ( (trasnmitted_2 * channel_coeff1 * pre_process) + np.random.normal(0,1,len(trasnmitted_2)))\n",
    "print(\"recieved-->\",receieved)\n",
    "\n",
    "print(\"\\n\")"
   ]
  },
  {
   "cell_type": "code",
   "execution_count": 638,
   "metadata": {},
   "outputs": [
    {
     "name": "stdout",
     "output_type": "stream",
     "text": [
      "source: [1 3 4]\n",
      "index: [ True  True False]\n",
      "trasnmitted3--> [1 3]\n",
      "channel_coeff2--> [1.31440512 2.41810032]\n",
      "recieved--> [3.41216987 2.73026927]\n",
      "\n",
      "\n"
     ]
    }
   ],
   "source": [
    "source=source[channel_coeff<=gain_threshold]\n",
    "print(\"source:\",source)\n",
    "\n",
    "channel_coeff=np.random.rayleigh(1,len(source))\n",
    "#print(\"channel_coeff:\",channel_coeff)\n",
    "\n",
    "index=channel_coeff>gain_threshold\n",
    "print(\"index:\",index)\n",
    "\n",
    "\n",
    "\n",
    "   \n",
    "transmitted_3=source[index]\n",
    "print(\"trasnmitted3-->\",transmitted_3)\n",
    "\n",
    "channel_coeff1=channel_coeff[index]\n",
    "print(\"channel_coeff2-->\",channel_coeff1)\n",
    "\n",
    "pre_process=np.minimum((np.sqrt(pmax)) ,  gain_threshold/channel_coeff1)\n",
    "#print(\"pre_process\",pre_process)\n",
    "\n",
    "post_process=(np.sum(np.mean(pre_process*channel_coeff1))) / ( np.sum(np.var(pre_process*channel_coeff1)) + 2*(np.var(channel_coeff1)) )\n",
    "#print(\"post process\",post_process)\n",
    "    \n",
    "\n",
    "    \n",
    "receieved =   post_process * ( (transmitted_3 * channel_coeff1 * pre_process) + np.random.normal(0,1,len(transmitted_3)))\n",
    "print(\"recieved-->\",receieved)\n",
    "\n",
    "print(\"\\n\")"
   ]
  },
  {
   "cell_type": "code",
   "execution_count": null,
   "metadata": {},
   "outputs": [],
   "source": []
  }
 ],
 "metadata": {
  "kernelspec": {
   "display_name": "Python 3",
   "language": "python",
   "name": "python3"
  },
  "language_info": {
   "codemirror_mode": {
    "name": "ipython",
    "version": 3
   },
   "file_extension": ".py",
   "mimetype": "text/x-python",
   "name": "python",
   "nbconvert_exporter": "python",
   "pygments_lexer": "ipython3",
   "version": "3.9.6"
  }
 },
 "nbformat": 4,
 "nbformat_minor": 2
}
