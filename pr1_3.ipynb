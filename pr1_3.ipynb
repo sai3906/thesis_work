{
 "cells": [
  {
   "cell_type": "code",
   "execution_count": 103,
   "metadata": {},
   "outputs": [],
   "source": [
    "import numpy as np\n",
    "from matplotlib import pyplot as plt"
   ]
  },
  {
   "cell_type": "code",
   "execution_count": 113,
   "metadata": {},
   "outputs": [
    {
     "name": "stdout",
     "output_type": "stream",
     "text": [
      "source  [1 2 3 4 5 6 7 8]\n",
      "[1 4 5 8]\n",
      "source: [2 3 6 7]\n",
      "[2 6]\n",
      "source: [3 7]\n",
      "[3 7]\n",
      "\n",
      "\n",
      "Rx [2.83223391 2.74107879 4.39326106 9.87541746 3.03008729 6.63483028\n",
      " 3.08684992 5.17116612]\n"
     ]
    }
   ],
   "source": [
    "pmax=2\n",
    "gain_threshold=1.1\n",
    "no_of_sources=8\n",
    "\n",
    "received=np.array([])\n",
    "\n",
    "source_main=np.array([i for i in range(1,no_of_sources+1)])\n",
    "source=source_main.copy()\n",
    "channel_coeff=np.random.rayleigh(1,len(source))\n",
    "transmitted_1=source[channel_coeff>gain_threshold]\n",
    "channel_coeff1=channel_coeff[channel_coeff>gain_threshold]\n",
    "pre_process=np.minimum((np.sqrt(pmax)) ,  gain_threshold/channel_coeff1)\n",
    "received= ((transmitted_1 * channel_coeff1 * pre_process) + np.random.normal(0,1,len(transmitted_1)))\n",
    "   \n",
    "print(\"source \",source)\n",
    "print(transmitted_1)\n",
    "#print(\"channel_coeff1-->\",channel_coeff1)\n",
    "#print(\"recieved1-->\",received)\n",
    "no_of_slots=1\n",
    "\n",
    "\n",
    "while(len(source)!=0):\n",
    "    no_of_slots=no_of_slots+1\n",
    "    source=source[channel_coeff<=gain_threshold]\n",
    "    \n",
    "    if len(source)==1:\n",
    "        channel_coeff=np.random.rayleigh(1,len(source))\n",
    "        trasnmitted_2=source\n",
    "        pre_process=np.minimum((np.sqrt(pmax)) ,  gain_threshold/channel_coeff1)\n",
    "        received=np.append(received,((trasnmitted_2 * channel_coeff1 * pre_process) + np.random.normal(0,1,len(trasnmitted_2))))\n",
    "        print(\"source:\",source)\n",
    "        print(trasnmitted_2) \n",
    "        break \n",
    "     \n",
    "    if len(source)==0:\n",
    "        break\n",
    "    \n",
    "    channel_coeff=np.random.rayleigh(1,len(source))   \n",
    "    trasnmitted_2=source[channel_coeff>gain_threshold]\n",
    "    channel_coeff1=channel_coeff[channel_coeff>gain_threshold]\n",
    "    pre_process=np.minimum((np.sqrt(pmax)) ,  gain_threshold/channel_coeff1)\n",
    "    received=np.append(received,((trasnmitted_2 * channel_coeff1 * pre_process) + np.random.normal(0,1,len(trasnmitted_2))))\n",
    "\n",
    "    print(\"source:\",source)\n",
    "    print(trasnmitted_2)\n",
    "    #print(\"channel_coeff2-->\",channel_coeff1)\n",
    "                 \n",
    "post_process=((np.sum(np.mean(channel_coeff1*pre_process)))  /  ( (np.sum(np.sum(channel_coeff1*pre_process)))**2 +no_of_slots*np.var(channel_coeff) ))\n",
    "print(\"\\n\")\n",
    "print(\"Rx\",received)\n"
   ]
  },
  {
   "cell_type": "code",
   "execution_count": 95,
   "metadata": {},
   "outputs": [
    {
     "name": "stdout",
     "output_type": "stream",
     "text": [
      "Tx 36 \n",
      " Rx 39.10095355243083\n"
     ]
    }
   ],
   "source": [
    "#post_process=(np.sum(np.mean(pre_process*channel_coeff1))) / ( np.sum(np.var(pre_process*channel_coeff1)) + 2*(np.var(channel_coeff1)) )\n",
    "transmitted_sum=np.sum(source_main)\n",
    "received_sum=np.sum(received)\n",
    "print(\"Tx\",transmitted_sum,\"\\n\",\"Rx\",received_sum)\n"
   ]
  },
  {
   "cell_type": "code",
   "execution_count": null,
   "metadata": {},
   "outputs": [],
   "source": []
  }
 ],
 "metadata": {
  "kernelspec": {
   "display_name": "Python 3",
   "language": "python",
   "name": "python3"
  },
  "language_info": {
   "codemirror_mode": {
    "name": "ipython",
    "version": 3
   },
   "file_extension": ".py",
   "mimetype": "text/x-python",
   "name": "python",
   "nbconvert_exporter": "python",
   "pygments_lexer": "ipython3",
   "version": "3.9.6"
  }
 },
 "nbformat": 4,
 "nbformat_minor": 2
}
