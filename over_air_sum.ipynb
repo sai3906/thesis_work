{
 "cells": [
  {
   "cell_type": "code",
   "execution_count": 165,
   "metadata": {},
   "outputs": [
    {
     "data": {
      "text/plain": [
       "array([-0.17706497,  0.42549002,  0.36484562, -1.37039157, -0.61696471,\n",
       "       -0.29429433, -0.71021364,  2.07415919,  0.75830753,  1.4611657 ])"
      ]
     },
     "execution_count": 165,
     "metadata": {},
     "output_type": "execute_result"
    }
   ],
   "source": [
    "import numpy  as np\n",
    "import matplotlib.pyplot as plt\n",
    "\n",
    "\n",
    "#at Tx\n",
    "k=10   #number of nodes\n",
    "N=7    #number of slots\n",
    "channel_gain=1.2\n",
    "\n",
    "source=np.random.randn(k)   #node values\n",
    "source\n"
   ]
  },
  {
   "cell_type": "code",
   "execution_count": 166,
   "metadata": {},
   "outputs": [
    {
     "name": "stdout",
     "output_type": "stream",
     "text": [
      "node values where channel coeffs are greater than channel  threshold: \n",
      " [-0.17706497  0.42549002 -0.61696471 -0.29429433 -0.71021364  0.75830753\n",
      "  1.4611657 ] 7\n",
      "node vaues less than channel threshold\n",
      " [ 0.36484562 -1.37039157  2.07415919] 3\n",
      "TRANSMITTED:: 0.6471691078023203\n",
      "RECIEVED:: 1.6917052895978728\n"
     ]
    }
   ],
   "source": [
    "channel_coeff=np.random.rayleigh(1,k)\n",
    "values_tobe_transmitted=source[channel_coeff>channel_gain]\n",
    "non_transmitted=source[channel_coeff<=channel_gain]\n",
    "\n",
    "#transmitted=values_tobe_transmitted*channel_coeff[channel_coeff>channel_gain]\n",
    "transmitted=np.sum(values_tobe_transmitted*channel_coeff[channel_coeff>channel_gain])+np.random.randn()\n",
    "recieved=transmitted+np.random.randn()\n",
    "\n",
    "print(\"node values where channel coeffs are greater than channel  threshold: \\n\",values_tobe_transmitted,len(values_tobe_transmitted))\n",
    "print(\"node vaues less than channel threshold\\n\",non_transmitted,len(non_transmitted))\n",
    "print(\"TRANSMITTED::\",transmitted)\n",
    "print(\"RECIEVED::\",recieved)"
   ]
  },
  {
   "cell_type": "code",
   "execution_count": 167,
   "metadata": {},
   "outputs": [
    {
     "name": "stdout",
     "output_type": "stream",
     "text": [
      "2 th slot\n",
      "node values where channel coeffs are greater than channel  threshold: \n",
      " [ 0.36484562 -1.37039157  2.07415919] 3\n",
      "node vaues less than channel threshold\n",
      " [] 0\n",
      "TRANSMITTED:: 0.40232839312897495\n",
      "RECIEVED:: -0.8820916438653712\n",
      "\n",
      "\n"
     ]
    }
   ],
   "source": [
    "for i in range(1,N+1):\n",
    "    if(len(non_transmitted)):\n",
    "        print(i+1,\"th slot\")\n",
    "        source=non_transmitted\n",
    "        channel_coeff=np.random.rayleigh(1,len(source))\n",
    "        values_tobe_transmitted=source[channel_coeff>channel_gain]\n",
    "        non_transmitted=source[channel_coeff<=channel_gain]\n",
    "\n",
    "        transmitted=np.sum(values_tobe_transmitted*channel_coeff[channel_coeff>channel_gain])\n",
    "        recieved=transmitted+np.random.randn()\n",
    "\n",
    "        print(\"node values where channel coeffs are greater than channel  threshold: \\n\",values_tobe_transmitted,len(values_tobe_transmitted))\n",
    "        print(\"node vaues less than channel threshold\\n\",non_transmitted,len(non_transmitted))\n",
    "        \n",
    "        print(\"TRANSMITTED::\",transmitted)\n",
    "        print(\"RECIEVED::\",recieved)\n",
    "        print(\"\\n\")\n",
    "        #transmitted=np.sum(values_tobe_transmitted*channel_coeff([channel_coeff>channel_gain]))+np.random.normal(0,1)\n"
   ]
  },
  {
   "cell_type": "code",
   "execution_count": 168,
   "metadata": {},
   "outputs": [
    {
     "name": "stdout",
     "output_type": "stream",
     "text": [
      "3\n",
      "0\n"
     ]
    },
    {
     "data": {
      "text/plain": [
       "<function print>"
      ]
     },
     "execution_count": 168,
     "metadata": {},
     "output_type": "execute_result"
    }
   ],
   "source": [
    "#pre_func=1/channel_coeff\n",
    "noise=np.random.normal(0,1)\n",
    "\n",
    "\n",
    "values_greater_than_channel_coeff=source[channel_coeff>channel_gain]\n",
    "transmitted=np.sum(source*channel_coeff)\n",
    "non_trasmitted_values=source[channel_coeff<channel_gain]\n",
    "print(len(source[channel_coeff>channel_gain]))\n",
    "\n",
    "for i in range(1,N+1):\n",
    "    if len(source):\n",
    "        channel_coeff=np.random.rayleigh(1,len(non_trasmitted_values+1))\n",
    "        source=non_trasmitted_values\n",
    "        trasmitted=np.sum(source[channel_coeff>channel_gain])\n",
    "        non_trasmitted_values=source[channel_coeff<channel_gain]\n",
    "        print(len(source[channel_coeff>channel_gain]))\n",
    "        recieved=transmitted+noise\n",
    "        error=abs(recieved-transmitted)\n",
    "\n",
    "print"
   ]
  }
 ],
 "metadata": {
  "kernelspec": {
   "display_name": "Python 3",
   "language": "python",
   "name": "python3"
  },
  "language_info": {
   "codemirror_mode": {
    "name": "ipython",
    "version": 3
   },
   "file_extension": ".py",
   "mimetype": "text/x-python",
   "name": "python",
   "nbconvert_exporter": "python",
   "pygments_lexer": "ipython3",
   "version": "3.10.12"
  }
 },
 "nbformat": 4,
 "nbformat_minor": 2
}
