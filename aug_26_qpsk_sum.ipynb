{
 "cells": [
  {
   "cell_type": "code",
   "execution_count": 1,
   "metadata": {},
   "outputs": [],
   "source": [
    "import numpy as np\n",
    "import  matplotlib.pyplot as plt\n",
    "import scipy.special as sp"
   ]
  },
  {
   "cell_type": "code",
   "execution_count": 2,
   "metadata": {},
   "outputs": [
    {
     "name": "stdout",
     "output_type": "stream",
     "text": [
      "msg\n",
      " [[1 0 1 ... 0 1 1]\n",
      " [1 1 1 ... 1 0 0]]\n",
      "2\n"
     ]
    }
   ],
   "source": [
    "def source(no_of_users,no_of_bits):\n",
    "    return np.random.randint(0, 2, (no_of_users,no_of_bits))\n",
    "no_of_users=2\n",
    "no_of_bits=8000\n",
    "msg_bits1=source(no_of_users,no_of_bits)\n",
    "\n",
    "print(\"msg\\n\",msg_bits1)\n",
    "print(len(msg_bits1))"
   ]
  },
  {
   "cell_type": "code",
   "execution_count": 3,
   "metadata": {},
   "outputs": [
    {
     "name": "stdout",
     "output_type": "stream",
     "text": [
      "[[ 1.-1.j -1.-1.j  1.+1.j ... -1.-1.j  1.-1.j -1.-1.j]\n",
      " [-1.-1.j  1.-1.j -1.-1.j ... -1.-1.j -1.-1.j  1.+1.j]]\n"
     ]
    }
   ],
   "source": [
    "def mod(bits):\n",
    "    mapping = {\n",
    "        (0,0):1+1j,\n",
    "        (0,1):-1+1j,\n",
    "        (1,0):1-1j,\n",
    "        (1,1):-1-1j\n",
    "    }\n",
    "    #modulation\n",
    "    symbols=np.array([])\n",
    "    for i in range(0,len(bits),1):\n",
    "        for j in range(0,len(bits[0]),2):\n",
    "            bit_pair=(bits[i][j],bits[i][j+1])\n",
    "            symbols=np.append(symbols,mapping[bit_pair])\n",
    "        #print(\"mod\",modulated_bits)\n",
    "    return symbols\n",
    "symbols=mod(msg_bits1).reshape(no_of_users,int(no_of_bits/2))\n",
    "print(symbols)"
   ]
  },
  {
   "cell_type": "code",
   "execution_count": 4,
   "metadata": {},
   "outputs": [
    {
     "name": "stdout",
     "output_type": "stream",
     "text": [
      "[-0.94361144-0.75670568j -0.12454557-1.9860606j   2.10401358+0.79200834j\n",
      " ... -0.59891636-5.32029682j  0.66333126-1.51230214j\n",
      " -0.23060539+0.04676505j]\n"
     ]
    }
   ],
   "source": [
    "def awgn(symbols, snr_db):\n",
    "    # print(symbols)\n",
    "    combined_symbols=np.sum(symbols,axis=0)\n",
    "    # print(combined_symbols)\n",
    "    signal_power = np.mean(np.abs(combined_symbols)**2)\n",
    "    # print(\"signal power\",signal_power)\n",
    "\n",
    "    snr_linear = 10**(snr_db / 10.0)\n",
    "    # print(snr_linear)\n",
    "    \n",
    "    noise_variance =  signal_power / (2 * snr_linear)\n",
    "    # print(\"noise_var\",noise_variance)\n",
    "\n",
    "    noise = np.sqrt(noise_variance) * ((np.random.randn(len(combined_symbols))) + 1j* (np.random.randn(len(combined_symbols))) )\n",
    "    # print(noise)\n",
    "\n",
    "    \n",
    "    return combined_symbols + noise\n",
    "\n",
    "snr_db=np.arange(0,1,1)\n",
    "received_signal=awgn(symbols,snr_db)\n",
    "print(received_signal)"
   ]
  },
  {
   "cell_type": "code",
   "execution_count": 5,
   "metadata": {},
   "outputs": [
    {
     "name": "stdout",
     "output_type": "stream",
     "text": [
      "[ 0.+0.j -0.-2.j  2.+0.j ... -0.-2.j -0.-2.j  0.+0.j]\n"
     ]
    }
   ],
   "source": [
    "def demod(received_signal):\n",
    "    # Define the possible symbols\n",
    "    symbols = [\n",
    "        2 + 2j, 2j, 0, 2,\n",
    "        -2 + 2j, -2, -2 - 2j, -2j,\n",
    "        2 - 2j\n",
    "    ]\n",
    "\n",
    "    # Demodulation\n",
    "    demodulated_symbols = []\n",
    "    for i in received_signal:\n",
    "        # print(i)\n",
    "        closest_symbol = min(symbols, key=lambda s: np.abs(i - s))\n",
    "        demodulated_symbols.append(closest_symbol)\n",
    "\n",
    "    return np.array(demodulated_symbols)\n",
    "\n",
    "demod_symbols=demod(received_signal)\n",
    "print(demod_symbols)"
   ]
  },
  {
   "cell_type": "code",
   "execution_count": 6,
   "metadata": {},
   "outputs": [
    {
     "name": "stdout",
     "output_type": "stream",
     "text": [
      "0.59475\n"
     ]
    }
   ],
   "source": [
    "def calculate_ber(msg,rec,no_of_users,no_of_bits):\n",
    "    sym1=mod(msg)\n",
    "    combined_symbols=np.sum(symbols,axis=0)\n",
    "    \n",
    "    \n",
    "    # print(msg)\n",
    "    # msg_sum=np.sum(msg,axis=0)\n",
    "    # print(\"\\n\",msg_sum)\n",
    "    # print(\"\\n\",rec)\n",
    "\n",
    "    ber=np.mean(combined_symbols!=rec)\n",
    "    return ber \n",
    "BER=calculate_ber(msg_bits1,demod_symbols,no_of_users,no_of_bits)\n",
    "print(BER)"
   ]
  },
  {
   "cell_type": "code",
   "execution_count": 7,
   "metadata": {},
   "outputs": [
    {
     "name": "stdout",
     "output_type": "stream",
     "text": [
      "snr= 0\n",
      "snr= 1\n",
      "snr= 2\n",
      "snr= 3\n",
      "snr= 4\n",
      "snr= 5\n",
      "snr= 6\n",
      "snr= 7\n",
      "snr= 8\n",
      "snr= 9\n",
      "snr= 10\n",
      "snr= 11\n",
      "[0.58825, 0.5305, 0.4965, 0.41375, 0.358, 0.28125, 0.213, 0.147, 0.09975, 0.06875, 0.0335, 0.01675]\n"
     ]
    }
   ],
   "source": [
    "def simulate(snr_db_range, msg_bits,no_of_users,no_of_bits):\n",
    "    ber = []\n",
    "    # print(\"msg\\n\",msg_bits)\n",
    "\n",
    "    for snr_db in snr_db_range:\n",
    "        print(\"snr=\",snr_db)\n",
    "        # Modulation        symbols-->bitsy])\n",
    "        transmitted_symbols =mod(msg_bits).reshape(no_of_users,int(no_of_bits/2))\n",
    "        # print(\"TX\\n\",transmitted_symbols)\n",
    "        \n",
    "        \n",
    "        #channel output = bits+noie\n",
    "        received_symbols = awgn(transmitted_symbols,snr_db)\n",
    "        # print(\"sum(x)+n\\n\",received_symbols)\n",
    "        \n",
    "        # Demodulate the received signal        noisy_bits-->symbols\n",
    "        demodulated_symbols =demod(received_symbols)\n",
    "        # print(\"demod\\n\",demodulated_symbols)\n",
    "    \n",
    "        # Calculate BER\n",
    "        ber.append(calculate_ber(msg_bits, demodulated_symbols,no_of_users,no_of_bits))\n",
    "        # print(ber)\n",
    "        # print(\"\\n\\n\")\n",
    "\n",
    "    return ber\n",
    "\n",
    "snr_db_range=np.arange(0,12,1)\n",
    "ser_qpsk_sum=simulate(snr_db_range,msg_bits1,no_of_users,no_of_bits)\n",
    "print(ser_qpsk_sum)"
   ]
  },
  {
   "cell_type": "code",
   "execution_count": 8,
   "metadata": {},
   "outputs": [
    {
     "data": {
      "image/png": "[encoded data removed]",
      "text/plain": [
       "<Figure size 640x480 with 1 Axes>"
      ]
     },
     "metadata": {},
     "output_type": "display_data"
    }
   ],
   "source": [
    "snr_lin=10**(snr_db_range/10)\n",
    "ser_qpsk_sum_theory=2.5*sp.erfc(np.sqrt(snr_lin/3))\n",
    "plt.semilogy(snr_db_range,ser_qpsk_sum,  linestyle='-', color=\"g\", label='simulated')\n",
    "plt.semilogy(snr_db_range, ser_qpsk_sum_theory,  linestyle='--', color='g', label='theoritical')\n",
    "plt.legend()\n",
    "plt.show()"
   ]
  }
 ],
 "metadata": {
  "kernelspec": {
   "display_name": "Python 3",
   "language": "python",
   "name": "python3"
  },
  "language_info": {
   "codemirror_mode": {
    "name": "ipython",
    "version": 3
   },
   "file_extension": ".py",
   "mimetype": "text/x-python",
   "name": "python",
   "nbconvert_exporter": "python",
   "pygments_lexer": "ipython3",
   "version": "3.8.10"
  }
 },
 "nbformat": 4,
 "nbformat_minor": 2
}
