{
 "cells": [
  {
   "cell_type": "code",
   "execution_count": 42,
   "metadata": {},
   "outputs": [],
   "source": [
    "import numpy as np\n",
    "from matplotlib import pyplot as plt\n",
    "\n",
    "no_of_sources=8"
   ]
  },
  {
   "cell_type": "code",
   "execution_count": 43,
   "metadata": {},
   "outputs": [
    {
     "name": "stdout",
     "output_type": "stream",
     "text": [
      "source: [1 2 3 4 5 6 7 8]\n",
      "index: [ True  True False False  True False False False]\n",
      "transmitted1--> [1 2 5]\n",
      "channel_coeff1--> [1.66670961 1.68276928 1.96592646]\n",
      "recieved1--> [ 23.26780694  14.67453806 163.45321051]\n",
      "\n",
      "\n"
     ]
    }
   ],
   "source": [
    "pmax=2\n",
    "gain_threshold=1.1\n",
    "\n",
    "\n",
    "source=np.array([i for i in range(1,no_of_sources+1)])\n",
    "print(\"source:\",source)\n",
    "\n",
    "channel_coeff=np.random.rayleigh(1,len(source))\n",
    "#print(\"channel_coeff:\",channel_coeff)\n",
    "\n",
    "index=channel_coeff>gain_threshold\n",
    "print(\"index:\",index)\n",
    " \n",
    " \n",
    "   \n",
    "transmitted_1=source[index]\n",
    "print(\"transmitted1-->\",transmitted_1)\n",
    "\n",
    "channel_coeff1=channel_coeff[index]\n",
    "print(\"channel_coeff1-->\",channel_coeff1)\n",
    "\n",
    "pre_process=np.minimum((np.sqrt(pmax)) ,  gain_threshold/channel_coeff1)\n",
    "#print(\"pre_process\",pre_process)\n",
    "\n",
    "post_process=(np.sum(np.mean(pre_process*channel_coeff1))) / ( np.sum(np.var(pre_process*channel_coeff1)) + 2*(np.var(channel_coeff1)) )\n",
    "#print(\"post process\",post_process)\n",
    "    \n",
    "receieved =   post_process * ( (transmitted_1 * channel_coeff1 * pre_process) + np.random.normal(0,1,len(transmitted_1)))\n",
    "print(\"recieved1-->\",receieved)\n",
    "\n",
    "print(\"\\n\")\n"
   ]
  },
  {
   "cell_type": "code",
   "execution_count": 44,
   "metadata": {},
   "outputs": [
    {
     "name": "stdout",
     "output_type": "stream",
     "text": [
      "source: [3 4 6 7 8]\n",
      "index: [False False  True  True False]\n",
      "transmitted2--> [6 7]\n",
      "channel_coeff2--> [1.57660956 1.34765289]\n",
      "recieved--> [259.83976893 386.89644676]\n",
      "\n",
      "\n",
      "source: [3 4 8]\n",
      "index: [False False False]\n",
      "transmitted2--> []\n",
      "channel_coeff2--> []\n",
      "recieved--> []\n",
      "\n",
      "\n",
      "source: [3 4 8]\n",
      "index: [ True False  True]\n",
      "transmitted2--> [3 8]\n",
      "channel_coeff2--> [1.23057696 1.46743505]\n",
      "recieved--> [ 72.70264234 314.09260864]\n",
      "\n",
      "\n",
      "source: [4]\n",
      "index: [False]\n",
      "transmitted2--> []\n",
      "channel_coeff2--> []\n",
      "recieved--> []\n",
      "\n",
      "\n",
      "source: [4]\n",
      "index: [ True]\n",
      "transmitted2--> [4]\n",
      "channel_coeff2--> [2.00856886]\n",
      "recieved--> [inf]\n",
      "\n",
      "\n",
      "source: []\n",
      "index: []\n",
      "transmitted2--> []\n",
      "channel_coeff2--> []\n",
      "recieved--> []\n",
      "\n",
      "\n"
     ]
    },
    {
     "name": "stderr",
     "output_type": "stream",
     "text": [
      "C:\\Users\\sai39\\AppData\\Local\\Temp\\ipykernel_21988\\4000701979.py:21: RuntimeWarning: divide by zero encountered in double_scalars\n",
      "  post_process=(np.sum(np.mean(pre_process*channel_coeff1))) / ( np.sum(np.var(pre_process*channel_coeff1)) + 2*(np.var(channel_coeff1)) )\n"
     ]
    }
   ],
   "source": [
    "while(len(source)!=0):\n",
    "    source=source[channel_coeff<=gain_threshold]\n",
    "    print(\"source:\",source)\n",
    "\n",
    "    channel_coeff=np.random.rayleigh(1,len(source))\n",
    "    #print(\"channel_coeff:\",channel_coeff)\n",
    "\n",
    "    index=channel_coeff>gain_threshold\n",
    "    print(\"index:\",index)\n",
    "    \n",
    "    \n",
    "    trasnmitted_2=source[index]\n",
    "    print(\"transmitted2-->\",trasnmitted_2)\n",
    "\n",
    "    channel_coeff1=channel_coeff[index]\n",
    "    print(\"channel_coeff2-->\",channel_coeff1)\n",
    "\n",
    "    pre_process=np.minimum((np.sqrt(pmax)) ,  gain_threshold/channel_coeff1)\n",
    "    #print(\"pre_process\",pre_process)\n",
    "\n",
    "    post_process=(np.sum(np.mean(pre_process*channel_coeff1))) / ( np.sum(np.var(pre_process*channel_coeff1)) + 2*(np.var(channel_coeff1)) )\n",
    "    #print(\"post process\",post_process)\n",
    "        \n",
    "\n",
    "        \n",
    "    receieved =   post_process * ( (trasnmitted_2 * channel_coeff1 * pre_process) + np.random.normal(0,1,len(trasnmitted_2)))\n",
    "    print(\"recieved-->\",receieved)\n",
    "\n",
    "    print(\"\\n\")"
   ]
  }
 ],
 "metadata": {
  "kernelspec": {
   "display_name": "Python 3",
   "language": "python",
   "name": "python3"
  },
  "language_info": {
   "codemirror_mode": {
    "name": "ipython",
    "version": 3
   },
   "file_extension": ".py",
   "mimetype": "text/x-python",
   "name": "python",
   "nbconvert_exporter": "python",
   "pygments_lexer": "ipython3",
   "version": "3.9.6"
  }
 },
 "nbformat": 4,
 "nbformat_minor": 2
}
