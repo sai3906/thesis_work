{
 "cells": [
  {
   "cell_type": "code",
   "execution_count": 72,
   "metadata": {},
   "outputs": [],
   "source": [
    "import numpy as np\n",
    "from matplotlib import pyplot as plt"
   ]
  },
  {
   "cell_type": "markdown",
   "metadata": {},
   "source": [
    "uniform distribution values with desired variance"
   ]
  },
  {
   "cell_type": "code",
   "execution_count": 73,
   "metadata": {},
   "outputs": [],
   "source": [
    "def uniform_with_variance(variance, size):\n",
    "    # Determine the range based on the desired variance\n",
    "    # For a uniform distribution, variance = (b - a)^2 / 12\n",
    "    # Solving for b - a gives: b - a = sqrt(12 * variance)\n",
    "    # For simplicity, we set the mean to 0, so a = -range/2 and b = range/2\n",
    "    range= np.sqrt(12 * variance)\n",
    "\n",
    "    beta=range/2\n",
    "    # Generate uniform random values within the determined range\n",
    "    uniform_values = np.random.uniform(-beta, beta, size)\n",
    "\n",
    "    # Calculate the actual variance of the generated values\n",
    "    actual_variance = np.var(uniform_values)\n",
    "\n",
    "    # Adjust the values to achieve the desired variance\n",
    "    uniform_values_adjusted = uniform_values * np.sqrt(variance / actual_variance)\n",
    "\n",
    "    return uniform_values_adjusted"
   ]
  },
  {
   "cell_type": "markdown",
   "metadata": {},
   "source": [
    "source values"
   ]
  },
  {
   "cell_type": "code",
   "execution_count": 74,
   "metadata": {},
   "outputs": [
    {
     "name": "stdout",
     "output_type": "stream",
     "text": [
      "Actual Variance: 2.0\n",
      "maximum power at source: 13.383133118783126\n",
      "[-0.41318863  0.84130017  0.56545405  2.1707967   3.65829648  0.26011064\n",
      " -0.58094856  2.92968574  2.16610814  2.76848149]\n"
     ]
    }
   ],
   "source": [
    "#at transmitter\n",
    "desired_variance = 2.0 \n",
    "size = 10  # number of source values\n",
    "\n",
    "source_values = uniform_with_variance(desired_variance, size)\n",
    "source_var=np.var(source_values)\n",
    "\n",
    "print(\"Actual Variance:\", source_var)\n",
    "\n",
    "\n",
    "max_power=max(source_values**2)\n",
    "print(\"maximum power at source:\",max_power)\n",
    "\n",
    "\n",
    "print(source_values)"
   ]
  },
  {
   "cell_type": "markdown",
   "metadata": {},
   "source": [
    "in channel\n"
   ]
  },
  {
   "cell_type": "code",
   "execution_count": 75,
   "metadata": {},
   "outputs": [
    {
     "name": "stdout",
     "output_type": "stream",
     "text": [
      "0.820182953364783\n",
      "transmitted: 10.91236596163238\n"
     ]
    }
   ],
   "source": [
    "#in channel\n",
    "\n",
    "noise_var=2\n",
    "\n",
    "channel_coeff=np.random.randn()\n",
    "\n",
    "noise=np.random.normal(0,noise_var)\n",
    "tranmitted=sum(source_values*channel_coeff)+noise\n",
    "\n",
    "snr=max_power/(2)\n",
    "\n",
    "\n",
    "print(channel_coeff)\n",
    "print(\"transmitted:\",tranmitted)"
   ]
  },
  {
   "cell_type": "code",
   "execution_count": 76,
   "metadata": {},
   "outputs": [],
   "source": [
    "def alpha():\n",
    "    num=np.sum(channel_coeff)\n",
    "    denom=(np.sum(channel_coeff))*(noise_var/source_var)\n",
    "    return num/denom"
   ]
  },
  {
   "cell_type": "code",
   "execution_count": 77,
   "metadata": {},
   "outputs": [
    {
     "name": "stdout",
     "output_type": "stream",
     "text": [
      "recieved: 10.91236596163238\n"
     ]
    }
   ],
   "source": [
    "# at receiver \n",
    "received=alpha()*tranmitted\n",
    "\n",
    "print(\"recieved:\",received)"
   ]
  },
  {
   "cell_type": "code",
   "execution_count": 78,
   "metadata": {},
   "outputs": [
    {
     "name": "stdout",
     "output_type": "stream",
     "text": [
      "-3.453730251681753\n"
     ]
    }
   ],
   "source": [
    "#error calculation\n",
    "error=received-np.sum(source_values)\n",
    "print(error)"
   ]
  }
 ],
 "metadata": {
  "kernelspec": {
   "display_name": "Python 3",
   "language": "python",
   "name": "python3"
  },
  "language_info": {
   "codemirror_mode": {
    "name": "ipython",
    "version": 3
   },
   "file_extension": ".py",
   "mimetype": "text/x-python",
   "name": "python",
   "nbconvert_exporter": "python",
   "pygments_lexer": "ipython3",
   "version": "3.10.12"
  }
 },
 "nbformat": 4,
 "nbformat_minor": 2
}
