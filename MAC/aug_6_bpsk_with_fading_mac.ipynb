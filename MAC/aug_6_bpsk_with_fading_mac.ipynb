{
 "cells": [
  {
   "cell_type": "code",
   "execution_count": 1,
   "metadata": {},
   "outputs": [],
   "source": [
    "import numpy as np\n",
    "from matplotlib import pyplot as plt"
   ]
  },
  {
   "cell_type": "code",
   "execution_count": 2,
   "metadata": {},
   "outputs": [
    {
     "name": "stdout",
     "output_type": "stream",
     "text": [
      "msg\n",
      " [[1 0 0 0]\n",
      " [0 0 1 1]]\n"
     ]
    }
   ],
   "source": [
    "def source(no_of_users, no_of_bits):\n",
    "    # Generate a random binary matrix with shape (no_of_users, no_of_bits)\n",
    "    # Each element is either 0 or 1\n",
    "    return np.random.randint(0, 2, (no_of_users, no_of_bits))\n",
    "\n",
    "no_of_users = 2  # Define the number of users\n",
    "no_of_bits = 4  # Define the number of bits per user\n",
    "\n",
    "# Generate the message bits as a binary matrix\n",
    "msg_bits1 = source(no_of_users, no_of_bits)  # Generating bit stream of size (no_of_users, no_of_bits)\n",
    "# Print the generated message bits\n",
    "print(\"msg\\n\", msg_bits1)  # Each row represents the bit stream for one user"
   ]
  },
  {
   "cell_type": "code",
   "execution_count": 3,
   "metadata": {},
   "outputs": [
    {
     "name": "stdout",
     "output_type": "stream",
     "text": [
      "[[ 1 -1 -1 -1]\n",
      " [-1 -1  1  1]]\n"
     ]
    }
   ],
   "source": [
    "def mod(bits):\n",
    "    # Map binary values: 0 to -1 and 1 to 1\n",
    "    return 2 * bits - 1\n",
    "\n",
    "# Apply modulation to the message bits\n",
    "symbols = mod(msg_bits1)\n",
    "# Print the modulated symbols\n",
    "print(symbols)\n"
   ]
  },
  {
   "cell_type": "code",
   "execution_count": 4,
   "metadata": {},
   "outputs": [
    {
     "name": "stdout",
     "output_type": "stream",
     "text": [
      "symbols\n",
      " [[ 1 -1 -1 -1]\n",
      " [-1 -1  1  1]]\n",
      "channel coeff\n",
      " [[ 0.01980292  0.36488457  0.32145253 -1.27165607]\n",
      " [ 2.10255267  0.01025943  0.31442032  1.39351609]] \n",
      "\n",
      "symols with fading\n",
      " [[ 0.01980292 -0.36488457 -0.32145253  1.27165607]\n",
      " [-2.10255267 -0.01025943  0.31442032  1.39351609]] \n",
      "\n",
      "h_i+x_i\n",
      " [-2.08274975 -0.375144   -0.00703221  2.66517216] \n",
      "\n",
      "[-1.64731888  0.36489962 -3.49342707  3.37852638] \n",
      "\n",
      " [-2.08274975 -0.375144   -0.00703221  2.66517216]\n"
     ]
    }
   ],
   "source": [
    "def awgn_mac_with_channel_coeff(symbols, snr_db):\n",
    "    # Calculate the average power of the combined signal\n",
    "    print(\"symbols\\n\",symbols)\n",
    "    \n",
    "    channel_coeff=np.random.randn(no_of_users,no_of_bits)\n",
    "    print(\"channel coeff\\n\",channel_coeff,\"\\n\")\n",
    "    \n",
    "    #multiplying with channel coeff\n",
    "    \n",
    "    symbols_with_fading=symbols*channel_coeff\n",
    "    print(\"symols with fading\\n\",symbols_with_fading,\"\\n\")\n",
    "    \n",
    "    # Sum the columns of the symbols array to combine signals from different users\n",
    "    combined_symbols = np.sum(symbols_with_fading, axis=0)  # This corresponds to y = ∑h_i *x_i\n",
    "    print(\"h_i+x_i\\n\",combined_symbols,\"\\n\")\n",
    "    \n",
    "    \n",
    "    signal_power = np.mean(np.abs(combined_symbols)**2)  # Signal power calculation\n",
    "    \n",
    "    # Convert SNR from dB to linear scale\n",
    "    snr_linear = 10**(snr_db / 10.0)\n",
    "    \n",
    "    # Calculate noise variance based on the signal power and SNR\n",
    "    noise_variance = signal_power / (2 * snr_linear)\n",
    "    \n",
    "    # Generate complex Gaussian noise with the calculated variance\n",
    "    noise = np.sqrt(noise_variance) * np.random.randn(len(combined_symbols))  # Generating noise with accordance with signal power\n",
    "  \n",
    "    return combined_symbols +noise,combined_symbols\n",
    "\n",
    "# Define the SNR in dB (array with one value in this case)\n",
    "snr_db = np.arange(0, 1, 1)\n",
    "\n",
    "# Pass the modulated symbols through the AWGN channel\n",
    "received_signal,symbols_with_fading = awgn_mac_with_channel_coeff(symbols, snr_db)\n",
    "\n",
    "# Print the received signal after adding noise\n",
    "print(received_signal,\"\\n\\n\",symbols_with_fading)\n"
   ]
  },
  {
   "cell_type": "code",
   "execution_count": 5,
   "metadata": {},
   "outputs": [
    {
     "name": "stdout",
     "output_type": "stream",
     "text": [
      "[-2  0 -2  2]\n"
     ]
    }
   ],
   "source": [
    "def demod(received_signal2,symbols_with_fading):\n",
    "    # Define the possible symbols for decoding\n",
    "    symbols = [-2, 0, 2]  # The symbols that the noisy received signals will be decoded into\n",
    "    \n",
    "    # Initialize an empty list to store the demodulated symbols\n",
    "    demodulated_symbols = []\n",
    "    \n",
    "    # Iterate over each received signal to decode it\n",
    "    for i in received_signal:\n",
    "        # Find the closest symbol to the received signal based on minimum distance\n",
    "        closest_symbol = min(symbols, key=lambda s: np.abs(i - s))  # Decoding by finding the minimum distance\n",
    "        demodulated_symbols.append(closest_symbol)  # Append the closest symbol to the list\n",
    "\n",
    "    # Convert the list of demodulated symbols to a numpy array and return it\n",
    "    return np.array(demodulated_symbols)\n",
    "\n",
    "# Perform demodulation on the received signal\n",
    "demod_symbols = demod(received_signal,symbols_with_fading)\n",
    "\n",
    "# Print the demodulated symbols\n",
    "print(demod_symbols)\n"
   ]
  },
  {
   "cell_type": "code",
   "execution_count": 6,
   "metadata": {},
   "outputs": [
    {
     "name": "stdout",
     "output_type": "stream",
     "text": [
      "1.0\n"
     ]
    }
   ],
   "source": [
    "def calculate_ber(msg, rec, no_of_users, no_of_bits):\n",
    "    # Modulate the original message bits to get the transmitted symbols\n",
    "    sym1 = mod(msg)\n",
    "    \n",
    "    # Sum the transmitted symbols across all users\n",
    "    combined_symbols = np.sum(sym1, axis=0)  # This is used to compare with the received symbols\n",
    "    \n",
    "    # Print statements for debugging (currently commented out)\n",
    "    # print(msg)\n",
    "    # msg_sum = np.sum(msg, axis=0)\n",
    "    # print(\"\\n\", msg_sum)\n",
    "    # print(\"\\n\", rec)\n",
    "\n",
    "    # Calculate the Bit Error Rate (BER) by comparing the combined transmitted symbols with the received symbols\n",
    "    ber = np.mean(combined_symbols != rec)  # BER is calculated by averaging the number of symbol errors\n",
    "    \n",
    "    return ber\n",
    "\n",
    "# Calculate the Bit Error Rate (BER) using the original message bits and the demodulated symbols\n",
    "BER = calculate_ber(msg_bits1, demod_symbols, no_of_users, no_of_bits)\n",
    "\n",
    "# Print the calculated BER\n",
    "print(BER)\n"
   ]
  },
  {
   "cell_type": "code",
   "execution_count": 7,
   "metadata": {},
   "outputs": [
    {
     "name": "stdout",
     "output_type": "stream",
     "text": [
      "symbols\n",
      " [[ 1 -1 -1 -1]\n",
      " [-1 -1  1  1]]\n",
      "channel coeff\n",
      " [[-0.69796261  0.17742855  0.76080336 -0.03398555]\n",
      " [-0.40107028 -1.19180166  0.55590379  0.88600276]] \n",
      "\n",
      "symols with fading\n",
      " [[-0.69796261 -0.17742855 -0.76080336  0.03398555]\n",
      " [ 0.40107028  1.19180166  0.55590379  0.88600276]] \n",
      "\n",
      "h_i+x_i\n",
      " [-0.29689233  1.0143731  -0.20489957  0.91998831] \n",
      "\n"
     ]
    },
    {
     "ename": "TypeError",
     "evalue": "demod() missing 1 required positional argument: 'symbols_with_fading'",
     "output_type": "error",
     "traceback": [
      "\u001b[0;31m---------------------------------------------------------------------------\u001b[0m",
      "\u001b[0;31mTypeError\u001b[0m                                 Traceback (most recent call last)",
      "Cell \u001b[0;32mIn[7], line 32\u001b[0m\n\u001b[1;32m     29\u001b[0m snr_db_range \u001b[38;5;241m=\u001b[39m np\u001b[38;5;241m.\u001b[39marange(\u001b[38;5;241m0\u001b[39m, \u001b[38;5;241m12\u001b[39m, \u001b[38;5;241m1\u001b[39m)  \u001b[38;5;66;03m# Input for SNR range to plot\u001b[39;00m\n\u001b[1;32m     31\u001b[0m \u001b[38;5;66;03m# Run the simulation to obtain SER for each SNR value\u001b[39;00m\n\u001b[0;32m---> 32\u001b[0m ber_bpsk_sum_with_channel_coeff\u001b[38;5;241m=\u001b[39m\u001b[43msimulate_with_channel_coeff\u001b[49m\u001b[43m(\u001b[49m\u001b[43msnr_db_range\u001b[49m\u001b[43m,\u001b[49m\u001b[43m \u001b[49m\u001b[43mmsg_bits1\u001b[49m\u001b[43m,\u001b[49m\u001b[43m \u001b[49m\u001b[43mno_of_users\u001b[49m\u001b[43m,\u001b[49m\u001b[43m \u001b[49m\u001b[43mno_of_bits\u001b[49m\u001b[43m)\u001b[49m\n\u001b[1;32m     34\u001b[0m \u001b[38;5;66;03m# Print the Bit Error Rate (BER) for each SNR value\u001b[39;00m\n\u001b[1;32m     35\u001b[0m \u001b[38;5;66;03m# print(ber_bpsk_sum)\u001b[39;00m\n",
      "Cell \u001b[0;32mIn[7], line 17\u001b[0m, in \u001b[0;36msimulate_with_channel_coeff\u001b[0;34m(snr_db_range, msg_bits, no_of_users, no_of_bits)\u001b[0m\n\u001b[1;32m     14\u001b[0m received_symbols ,_\u001b[38;5;241m=\u001b[39m awgn_mac_with_channel_coeff(transmitted_symbols, snr_db)  \u001b[38;5;66;03m# Received symbols: channel output = symbols + noise\u001b[39;00m\n\u001b[1;32m     16\u001b[0m \u001b[38;5;66;03m# Demodulate the received symbols to recover the transmitted symbols\u001b[39;00m\n\u001b[0;32m---> 17\u001b[0m demodulated_symbols \u001b[38;5;241m=\u001b[39m \u001b[43mdemod\u001b[49m\u001b[43m(\u001b[49m\u001b[43mreceived_symbols\u001b[49m\u001b[43m)\u001b[49m  \u001b[38;5;66;03m# Demodulation: noisy_symbols --> decoded symbols\u001b[39;00m\n\u001b[1;32m     19\u001b[0m \u001b[38;5;66;03m# Calculate the Symbol Error Rate (SER) and append it to the list\u001b[39;00m\n\u001b[1;32m     20\u001b[0m ber_with_channel_coeff \u001b[38;5;241m.\u001b[39mappend(calculate_ber(msg_bits, demodulated_symbols, no_of_users, no_of_bits))  \u001b[38;5;66;03m# Calculate SER\u001b[39;00m\n",
      "\u001b[0;31mTypeError\u001b[0m: demod() missing 1 required positional argument: 'symbols_with_fading'"
     ]
    }
   ],
   "source": [
    "# Function to simulate the system for different SNR values\n",
    "def simulate_with_channel_coeff(snr_db_range, msg_bits, no_of_users, no_of_bits):\n",
    "    ber_with_channel_coeff = []  # Initialize an empty list to store Symbol Error Rate (SER) for each SNR value\n",
    "\n",
    "    # Iterate over the range of SNR values\n",
    "    for snr_db in snr_db_range:\n",
    "        # Print the current SNR value for debugging (commented out)\n",
    "        # print(\"snr=\", snr_db)\n",
    "        \n",
    "        # Modulate the message bits to obtain transmitted symbols\n",
    "        transmitted_symbols = mod(msg_bits)  # Modulation: bit stream --> symbols\n",
    "        \n",
    "        # Pass the transmitted symbols through the AWGN channel to get received symbols\n",
    "        received_symbols ,_= awgn_mac_with_channel_coeff(transmitted_symbols, snr_db)  # Received symbols: channel output = symbols + noise\n",
    "        \n",
    "        # Demodulate the received symbols to recover the transmitted symbols\n",
    "        demodulated_symbols = demod(received_symbols)  # Demodulation: noisy_symbols --> decoded symbols\n",
    "        \n",
    "        # Calculate the Symbol Error Rate (SER) and append it to the list\n",
    "        ber_with_channel_coeff .append(calculate_ber(msg_bits, demodulated_symbols, no_of_users, no_of_bits))  # Calculate SER\n",
    "    \n",
    "        # Print BER for the current SNR value for debugging (commented out)\n",
    "        # print(ber)\n",
    "        # print(\"\\n\\n\")\n",
    "\n",
    "    return ber_with_channel_coeff   # Return the list of SER values for the given range of SNR values\n",
    "\n",
    "# Define the range of SNR values (in dB) for the simulation\n",
    "snr_db_range = np.arange(0, 12, 1)  # Input for SNR range to plot\n",
    "\n",
    "# Run the simulation to obtain SER for each SNR value\n",
    "ber_bpsk_sum_with_channel_coeff=simulate_with_channel_coeff(snr_db_range, msg_bits1, no_of_users, no_of_bits)\n",
    "\n",
    "# Print the Bit Error Rate (BER) for each SNR value\n",
    "# print(ber_bpsk_sum)\n",
    "\n"
   ]
  },
  {
   "cell_type": "code",
   "execution_count": null,
   "metadata": {},
   "outputs": [
    {
     "data": {
      "image/png": "[encoded data removed]",
      "text/plain": [
       "<Figure size 640x480 with 1 Axes>"
      ]
     },
     "metadata": {},
     "output_type": "display_data"
    }
   ],
   "source": [
    "# Convert SNR values from dB to linear scale\n",
    "snr_lin = 10**(snr_db_range / 10)  # SNR in linear scale\n",
    "\n",
    "\n",
    "# plt.semilogy(snr_db_range, ber_bpsk_sum_with_channel_coeff, linestyle='-', color=\"r\", label='simulated')\n",
    "\n",
    "# Plot the theoretical BER values\n",
    "plt.semilogy(snr_db_range, ber_bpsk_sum_with_channel_coeff, linestyle='--', color='g', label='theoretical')\n",
    "\n",
    "plt.xlabel(\"SNR (dB)\")  \n",
    "plt.ylabel(\"BER\")       \n",
    "plt.legend()         \n",
    "plt.title(\"BPSK Two Users\") \n",
    "# plt.grid(True)\n",
    "plt.show()\n"
   ]
  }
 ],
 "metadata": {
  "kernelspec": {
   "display_name": "Python 3",
   "language": "python",
   "name": "python3"
  },
  "language_info": {
   "codemirror_mode": {
    "name": "ipython",
    "version": 3
   },
   "file_extension": ".py",
   "mimetype": "text/x-python",
   "name": "python",
   "nbconvert_exporter": "python",
   "pygments_lexer": "ipython3",
   "version": "3.8.10"
  }
 },
 "nbformat": 4,
 "nbformat_minor": 2
}
