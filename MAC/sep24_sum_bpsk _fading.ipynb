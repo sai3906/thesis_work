{
 "cells": [
  {
   "cell_type": "code",
   "execution_count": 10,
   "metadata": {},
   "outputs": [],
   "source": [
    "import numpy as np\n",
    "import  matplotlib.pyplot as plt\n",
    "import scipy.special as sp"
   ]
  },
  {
   "cell_type": "markdown",
   "metadata": {},
   "source": [
    "# source"
   ]
  },
  {
   "cell_type": "code",
   "execution_count": 11,
   "metadata": {},
   "outputs": [
    {
     "name": "stdout",
     "output_type": "stream",
     "text": [
      "msg\n",
      " [[1 1 1 ... 1 0 1]\n",
      " [0 0 0 ... 0 1 1]]\n"
     ]
    }
   ],
   "source": [
    "def source(no_of_users, no_of_bits):\n",
    "    # Generate a random binary matrix with shape (no_of_users, no_of_bits)\n",
    "    # Each element is either 0 or 1\n",
    "    return np.random.randint(0, 2, (no_of_users, no_of_bits))\n",
    "\n",
    "no_of_users = 2  # Define the number of users\n",
    "no_of_bits =8000  # Define the number of bits per user\n",
    "\n",
    "# Generate the message bits as a binary matrix\n",
    "msg_bits1 = source(no_of_users, no_of_bits) # Generating bit stream of size (no_of_users, no_of_bits)\n",
    "# Print the generated message bits\n",
    "print(\"msg\\n\", msg_bits1)  # Each row represents the bit stream for one user\n"
   ]
  },
  {
   "cell_type": "markdown",
   "metadata": {},
   "source": [
    "# modulationn"
   ]
  },
  {
   "cell_type": "code",
   "execution_count": 12,
   "metadata": {},
   "outputs": [
    {
     "name": "stdout",
     "output_type": "stream",
     "text": [
      "[[ 1  1  1 ...  1 -1  1]\n",
      " [-1 -1 -1 ... -1  1  1]]\n"
     ]
    }
   ],
   "source": [
    "def mod(bits):\n",
    "    # Map binary values: 0 to -1 and 1 to 1\n",
    "    return 2 * bits - 1\n",
    "\n",
    "# Apply modulation to the message bits\n",
    "symbols = mod(msg_bits1)\n",
    "print(symbols)"
   ]
  },
  {
   "cell_type": "markdown",
   "metadata": {},
   "source": [
    "# channel"
   ]
  },
  {
   "cell_type": "code",
   "execution_count": 13,
   "metadata": {},
   "outputs": [
    {
     "name": "stdout",
     "output_type": "stream",
     "text": [
      "h_i=:\n",
      " [[ 0.80903285 -0.16364999  0.81792233 ... -0.61163574 -0.46299609\n",
      "   0.14783066]\n",
      " [ 0.67597618 -1.73250894  1.55897792 ... -0.28185157  1.2061592\n",
      "  -0.26167166]] \n",
      "y=:\n",
      " [-0.11307994  1.71632657 -0.85377742 ... -0.14095342  2.39362884\n",
      " -2.42886181]\n"
     ]
    }
   ],
   "source": [
    "def awgn_mac_with_channel_coeff(symbols, snr_db):\n",
    "    # Sum the columns of the symbols array to combine signals from different users\n",
    "\n",
    "    #cahnnel coefficienst\n",
    "    channel_coeff=np.random.randn(no_of_users,no_of_bits)\n",
    "    \n",
    "    faded_symbols=symbols*channel_coeff# This corresponds to y = x_i * h_i\n",
    "    # Print combined symbols for debugging (commented out)\n",
    "    \n",
    "    combined_faded_symbols = np.sum(faded_symbols, axis=0)# This corresponds to y = ∑x_i * h_i\n",
    "    # print(combined_symbols)   \n",
    "    \n",
    "    # Calculate the average power of the combined signal\n",
    "    signal_power = np.mean(np.abs(combined_faded_symbols)**2)  # Signal power calculation\n",
    "\n",
    "    # Convert SNR from dB to linear scale\n",
    "    snr_linear = 10**(snr_db / 10.0)\n",
    "    \n",
    "    # Calculate noise variance based on the signal power and SNR\n",
    "    noise_variance = signal_power / (2 * snr_linear)\n",
    "\n",
    "    # Generate complex Gaussian noise with the calculated variance\n",
    "    noise = np.sqrt(noise_variance) * np.random.randn(len(combined_faded_symbols))  # Generating noise with accordance with signal power\n",
    "\n",
    "    #multiplying with channel coeff\n",
    "    # channel_coeff=np.random.randn(len(combined_symbols))\n",
    "    # Add the noise to the combined symbols and return the result\n",
    "    return combined_faded_symbols + noise,channel_coeff\n",
    "\n",
    "# Define the SNR in dB (array with one value in this case)\n",
    "snr_db = np.arange(2, 3, 1)\n",
    "\n",
    "# Pass the modulated symbols through the AWGN channel\n",
    "received_signal,channel_coeff = awgn_mac_with_channel_coeff(symbols, snr_db)\n",
    "\n",
    "# Print the received signal after adding noise\n",
    "print(\"h_i=:\\n\",channel_coeff,\"\\ny=:\\n\",received_signal)"
   ]
  },
  {
   "cell_type": "markdown",
   "metadata": {},
   "source": [
    "# Demodulation"
   ]
  },
  {
   "cell_type": "code",
   "execution_count": 14,
   "metadata": {},
   "outputs": [],
   "source": [
    "def demod1(received_signal, channel_coeff):\n",
    "    possible_symbols = [(-1, -1), (-1, 1), (1, -1), (1, 1)]\n",
    "    recovered_sum = []\n",
    "\n",
    "    # Iterate over the received symbols\n",
    "    for rec_sym in received_signal:\n",
    "        # Use min() to find the symbol with the smallest distance\n",
    "        best_symbol = min(possible_symbols, key=lambda symbol: np.abs(rec_sym - np.sum(channel_coeff[:, 0] * np.array(symbol)))**2)\n",
    "\n",
    "        # Append the sum of the best symbol to the recovered_sum list\n",
    "        recovered_sum.append(np.sum(best_symbol))\n",
    "\n",
    "    return recovered_sum\n",
    "\n",
    "recovered = demod1(received_signal, channel_coeff)\n",
    "# print(\"demodulated_sym:\", recovered)\n"
   ]
  },
  {
   "cell_type": "code",
   "execution_count": 15,
   "metadata": {},
   "outputs": [],
   "source": [
    "def demod(received_signal,channel_coeff):\n",
    "    possible_symbols=[(-1,-1),(-1,1),(1,-1),(1,1)]\n",
    "    # print(\"channel_coeff\\n\",channel_coeff,\"\\n\\n\")\n",
    "    recovered_sum=[]\n",
    "    for rec_sym in received_signal:\n",
    "        min_distance = float('inf')  # Initialize min_distance to a large value\n",
    "        best_symbol = None  # To keep track of the symbol with the minimum distance\n",
    "        for i in range(0,len(channel_coeff[0])):\n",
    "            for j in possible_symbols:\n",
    "                # print(channel_coeff[:,i],np.array(j))\n",
    "                hi_xi=channel_coeff[:,i]*np.array(j)\n",
    "                sum_hi_xi=np.sum(hi_xi)\n",
    "                # print(\"∑x_i*h_i=\",sum_hi_xi,\"\\t\",\"y=\",rec_sym)\n",
    "                distance=np.abs(rec_sym-sum_hi_xi)**2\n",
    "                # print(\"distance=\",distance,\"\\n\\n\")\n",
    "                # Update the minimum distance and corresponding symbol\n",
    "                if distance < min_distance:\n",
    "                    min_distance = distance\n",
    "                    best_symbol =np.array(j)\n",
    "            # print(\"min_distance:\",min_distance,\"best_symb:\",best_symbol)    \n",
    "            # print(\"---------------------------------------------------------------------\")\n",
    "            break\n",
    "        recovered_sum.append(np.sum(best_symbol))\n",
    "    return recovered_sum\n",
    " \n",
    "\n",
    "recovered=demod(received_signal,channel_coeff)\n",
    "# print(\"demodulated_sym\",recovered)"
   ]
  },
  {
   "cell_type": "markdown",
   "metadata": {},
   "source": [
    "## BER calculation"
   ]
  },
  {
   "cell_type": "code",
   "execution_count": 16,
   "metadata": {},
   "outputs": [
    {
     "name": "stdout",
     "output_type": "stream",
     "text": [
      "0.650125\n"
     ]
    }
   ],
   "source": [
    "def ber_bpsk_sum_with_fading(msg, recovered):\n",
    "    # Modulate the original message bits to get the transmitted symbols\n",
    "    sym1 = mod(msg)\n",
    "    \n",
    "    # Sum the transmitted symbols across all users\n",
    "    combined_symbols = np.sum(sym1, axis=0)  # This is used to compare with the received symbols\n",
    "    # print(\"msg:\",combined_symbols)\n",
    "    \n",
    "    # print(\"rec:\",recovered)\n",
    "    \n",
    "    # Print statements for debugging (currently commented out)\n",
    "    # print(msg)\n",
    "    # msg_sum = np.sum(msg, axis=0)\n",
    "    # print(\"\\n\", msg_sum)\n",
    "    # print(\"\\n\", rec)\n",
    "\n",
    "    # Calculate the Bit Error Rate (BER) by comparing the combined transmitted symbols with the received symbols\n",
    "    ber = np.mean(combined_symbols != recovered)  # BER is calculated by averaging the number of symbol errors\n",
    "    \n",
    "    return ber\n",
    "\n",
    "# Calculate the Bit Error Rate (BER) using the original message bits and the demodulated symbols\n",
    "BER = ber_bpsk_sum_with_fading(msg_bits1,recovered)\n",
    "\n",
    "# Print the calculated BER\n",
    "print(BER)\n"
   ]
  },
  {
   "cell_type": "markdown",
   "metadata": {},
   "source": [
    "## simulation"
   ]
  },
  {
   "cell_type": "code",
   "execution_count": 17,
   "metadata": {},
   "outputs": [
    {
     "name": "stdout",
     "output_type": "stream",
     "text": [
      "[0.615, 0.701125, 0.6665, 0.7205, 0.620875, 0.556875, 0.551875, 0.616125, 0.65925, 0.548, 0.665625, 0.68875]\n"
     ]
    }
   ],
   "source": [
    "# Function to simulate the system for different SNR values\n",
    "def simulate_mac_with_fading(snr_db_range, msg_bits, no_of_users, no_of_bits):\n",
    "    ber_with_channel_coeff = []  # Initialize an empty list to store Symbol Error Rate (SER) for each SNR value\n",
    "\n",
    "    # Iterate over the range of SNR values\n",
    "    for snr_db in snr_db_range:\n",
    "        # Print the current SNR value for debugging (commented out)\n",
    "        # print(\"snr=\", snr_db)\n",
    "        \n",
    "        # Modulate the message bits to obtain transmitted symbols\n",
    "        transmitted_symbols = mod(msg_bits)  # Modulation: bit stream --> symbols\n",
    "        # print(transmitted_symbols)\n",
    "          \n",
    "        # Pass the transmitted symbols through the AWGN channel to get received symbols\n",
    "        received_symbols,faded_symbols = awgn_mac_with_channel_coeff(transmitted_symbols, snr_db)  # Received symbols: channel output = symbols + noise\n",
    "        # print(\"received\\n\",received_symbols)\n",
    "        \n",
    "        # Demodulate the received symbols to recover the transmitted symbols\n",
    "        demodulated_symbols = demod(received_symbols,faded_symbols)  # Demodulation: noisy_symbols --> decoded symbols\n",
    "        # print(\"demodulated\\n\",demodulated_symbols)\n",
    "        \n",
    "        # ber_with_channel_coeff=ber_bpsk_sum_with_fading(msg_bits,demodulated_symbols)\n",
    "        # print(ber_with_channel_coeff)\n",
    "        ber_with_channel_coeff.append(ber_bpsk_sum_with_fading(msg_bits, demodulated_symbols)) \n",
    "        # Demodulate the received symbols to recover the transmitted symbo>\n",
    "        # print(\"\\n\\n\")\n",
    "\n",
    "    return ber_with_channel_coeff   # Return the list of SER values for the given range of SNR values\n",
    "\n",
    "\n",
    "\n",
    "# Define the range of SNR values (in dB) for the simulation\n",
    "snr_db_range = np.arange(0, 12, 1)  # Input for SNR range to plot\n",
    "\n",
    "# Run the simulation to obtain SER for each SNR value\n",
    "ber_bpsk_sum_with_fading=simulate_mac_with_fading(snr_db_range, msg_bits1, no_of_users, no_of_bits)\n",
    "\n",
    "# Print the Bit Error Rate (BER) for each SNR value\n",
    "# print(ber_bpsk_sum_with_channel_coeff)\n",
    " \n",
    "\n",
    "print(ber_bpsk_sum_with_fading)"
   ]
  },
  {
   "cell_type": "markdown",
   "metadata": {},
   "source": [
    "### plotting"
   ]
  },
  {
   "cell_type": "code",
   "execution_count": 18,
   "metadata": {},
   "outputs": [
    {
     "data": {
      "image/png": "[encoded data removed]",
      "text/plain": [
       "<Figure size 640x480 with 1 Axes>"
      ]
     },
     "metadata": {},
     "output_type": "display_data"
    }
   ],
   "source": [
    "# Convert SNR values from dB to linear scale\n",
    "snr_lin = 10**(snr_db_range / 10)  # SNR in linear scale\n",
    "\n",
    "\n",
    "# Plot the simulated BER values\n",
    "plt.semilogy(snr_lin, ber_bpsk_sum_with_fading, linestyle='-', color=\"g\", label='simulated')\n",
    "\n",
    "#theoritical values\n",
    "# plt.semilogy(snr_lin,1/((1*snr_lin)), linestyle='--', color=\"r\", label='theoritical')\n",
    "\n",
    "plt.xlabel(\"SNR linear\")  \n",
    "plt.ylabel(\"log(BER)\")       \n",
    "plt.legend()         \n",
    "plt.title(\"BPSK Two Users\") \n",
    "# plt.grid(True)\n",
    "plt.show()\n"
   ]
  }
 ],
 "metadata": {
  "kernelspec": {
   "display_name": "Python 3",
   "language": "python",
   "name": "python3"
  },
  "language_info": {
   "codemirror_mode": {
    "name": "ipython",
    "version": 3
   },
   "file_extension": ".py",
   "mimetype": "text/x-python",
   "name": "python",
   "nbconvert_exporter": "python",
   "pygments_lexer": "ipython3",
   "version": "3.8.10"
  }
 },
 "nbformat": 4,
 "nbformat_minor": 2
}
