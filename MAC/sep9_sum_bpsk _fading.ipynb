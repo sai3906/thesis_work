{
 "cells": [
  {
   "cell_type": "code",
   "execution_count": 49,
   "metadata": {},
   "outputs": [],
   "source": [
    "import numpy as np\n",
    "import  matplotlib.pyplot as plt\n",
    "import scipy.special as sp"
   ]
  },
  {
   "cell_type": "code",
   "execution_count": 50,
   "metadata": {},
   "outputs": [
    {
     "name": "stdout",
     "output_type": "stream",
     "text": [
      "msg\n",
      " [[0 1 1 ... 0 0 0]\n",
      " [1 1 1 ... 0 0 1]]\n"
     ]
    }
   ],
   "source": [
    "def source(no_of_users, no_of_bits):\n",
    "    # Generate a random binary matrix with shape (no_of_users, no_of_bits)\n",
    "    # Each element is either 0 or 1\n",
    "    return np.random.randint(0, 2, (no_of_users, no_of_bits))\n",
    "\n",
    "no_of_users = 2  # Define the number of users\n",
    "no_of_bits = 10000  # Define the number of bits per user\n",
    "\n",
    "# Generate the message bits as a binary matrix\n",
    "msg_bits1 = source(no_of_users, no_of_bits)  # Generating bit stream of size (no_of_users, no_of_bits)\n",
    "# Print the generated message bits\n",
    "print(\"msg\\n\", msg_bits1)  # Each row represents the bit stream for one user\n"
   ]
  },
  {
   "cell_type": "code",
   "execution_count": 51,
   "metadata": {},
   "outputs": [
    {
     "name": "stdout",
     "output_type": "stream",
     "text": [
      "[[-1  1  1 ... -1 -1 -1]\n",
      " [ 1  1  1 ... -1 -1  1]]\n"
     ]
    }
   ],
   "source": [
    "def mod(bits):\n",
    "    # Map binary values: 0 to -1 and 1 to 1\n",
    "    return 2 * bits - 1\n",
    "\n",
    "# Apply modulation to the message bits\n",
    "symbols = mod(msg_bits1)\n",
    "# Print the modulated symbols\n",
    "print(symbols)\n",
    "\n"
   ]
  },
  {
   "cell_type": "code",
   "execution_count": 52,
   "metadata": {},
   "outputs": [
    {
     "name": "stdout",
     "output_type": "stream",
     "text": [
      "\n",
      "[ 0.18730273 -1.05533864 -3.15937023 ... -0.51397662 -1.88967721\n",
      " -0.32576006]\n"
     ]
    }
   ],
   "source": [
    "def awgn_mac_with_channel_coeff(symbols, snr_db):\n",
    "    # Sum the columns of the symbols array to combine signals from different users\n",
    "\n",
    "    #cahnnel coefficienst\n",
    "    channel_coeff=np.random.randn(len(symbols[0]))\n",
    "    \n",
    "    faded_symbols=symbols*channel_coeff# This corresponds to y = x_i * h_i\n",
    "    # Print combined symbols for debugging (commented out)\n",
    "    \n",
    "    combined_symbols = np.sum(faded_symbols, axis=0)# This corresponds to y = ∑x_i * h_i\n",
    "    # print(combined_symbols)   \n",
    "    \n",
    "    # Calculate the average power of the combined signal\n",
    "    signal_power = np.mean(np.abs(combined_symbols)**2)  # Signal power calculation\n",
    "\n",
    "    # Convert SNR from dB to linear scale\n",
    "    snr_linear = 10**(snr_db / 10.0)\n",
    "    \n",
    "    # Calculate noise variance based on the signal power and SNR\n",
    "    noise_variance = signal_power / (2 * snr_linear)\n",
    "    print()\n",
    "\n",
    "    # Generate complex Gaussian noise with the calculated variance\n",
    "    noise = np.sqrt(noise_variance) * np.random.randn(len(combined_symbols))  # Generating noise with accordance with signal power\n",
    "\n",
    "    #multiplying with channel coeff\n",
    "    # channel_coeff=np.random.randn(len(combined_symbols))\n",
    "    # Add the noise to the combined symbols and return the result\n",
    "    return combined_symbols + noise,channel_coeff\n",
    "\n",
    "# Define the SNR in dB (array with one value in this case)\n",
    "snr_db = np.arange(2, 3, 1)\n",
    "\n",
    "# Pass the modulated symbols through the AWGN channel\n",
    "received_signal,_ = awgn_mac_with_channel_coeff(symbols, snr_db)\n",
    "\n",
    "# Print the received signal after adding noise\n",
    "print(received_signal)\n"
   ]
  },
  {
   "cell_type": "code",
   "execution_count": 53,
   "metadata": {},
   "outputs": [],
   "source": [
    "def demod(received_signal):\n",
    "    # print(received_signal)\n",
    "    # Define the possible symbols for decoding\n",
    "    symbols = [-2, 0, 2]  # The symbols that the noisy received signals will be decoded into\n",
    "\n",
    "    # Initialize an empty list to store the demodulated symbols\n",
    "    demodulated_symbols = []\n",
    "    \n",
    "    # Iterate over each received signal to decode it\n",
    "    for i in received_signal:\n",
    "        # print(i)\n",
    "        # Find the closest symbol to the received signal based on minimum distance\n",
    "        closest_symbol = min(symbols, key=lambda s: np.abs(i - s))  # Decoding by finding the minimum distance\n",
    "        # print(closest_symbol)\n",
    "        demodulated_symbols.append(closest_symbol)  # Append the closest symbol to the list\n",
    "    # print(demodulated_symbols)\n",
    "\n",
    "    # Convert the list of demodulated symbols to a numpy array and return it\n",
    "    return np.array(demodulated_symbols)\n",
    "\n",
    "\n",
    "\n",
    "# Perform demodulation on the received signal\n",
    "demod_symbols = demod(received_signal)\n",
    "# Print the demodulated symbols\n",
    "# print(demod_symbols)\n",
    "# print(np.sum(symbols,axis=0))\n"
   ]
  },
  {
   "cell_type": "code",
   "execution_count": 54,
   "metadata": {},
   "outputs": [
    {
     "name": "stdout",
     "output_type": "stream",
     "text": [
      "0.4444\n"
     ]
    }
   ],
   "source": [
    "def ber_bpsk_sum_with_fading(msg, recovered):\n",
    "    # Modulate the original message bits to get the transmitted symbols\n",
    "    sym1 = mod(msg)\n",
    "    \n",
    "    # Sum the transmitted symbols across all users\n",
    "    combined_symbols = np.sum(sym1, axis=0)  # This is used to compare with the received symbols\n",
    "    # print(combined_symbols)\n",
    "    \n",
    "    # Print statements for debugging (currently commented out)\n",
    "    # print(msg)\n",
    "    # msg_sum = np.sum(msg, axis=0)\n",
    "    # print(\"\\n\", msg_sum)\n",
    "    # print(\"\\n\", rec)\n",
    "\n",
    "    # Calculate the Bit Error Rate (BER) by comparing the combined transmitted symbols with the received symbols\n",
    "    ber = np.mean(combined_symbols != recovered)  # BER is calculated by averaging the number of symbol errors\n",
    "    \n",
    "    return ber\n",
    "\n",
    "# Calculate the Bit Error Rate (BER) using the original message bits and the demodulated symbols\n",
    "BER = ber_bpsk_sum_with_fading(msg_bits1, demod_symbols)\n",
    "\n",
    "# Print the calculated BER\n",
    "print(BER)\n"
   ]
  },
  {
   "cell_type": "code",
   "execution_count": 55,
   "metadata": {},
   "outputs": [
    {
     "name": "stdout",
     "output_type": "stream",
     "text": [
      "\n",
      "\n",
      "\n",
      "\n",
      "\n",
      "\n",
      "\n",
      "\n",
      "\n",
      "\n",
      "\n",
      "\n",
      "[0.4971, 0.4767, 0.4427, 0.4138, 0.4037, 0.3846, 0.3709, 0.3643, 0.3545, 0.353, 0.3455, 0.345]\n"
     ]
    }
   ],
   "source": [
    "# Function to simulate the system for different SNR values\n",
    "def simulate_mac_with_fading(snr_db_range, msg_bits, no_of_users, no_of_bits):\n",
    "    ber_with_channel_coeff = []  # Initialize an empty list to store Symbol Error Rate (SER) for each SNR value\n",
    "\n",
    "    # Iterate over the range of SNR values\n",
    "    for snr_db in snr_db_range:\n",
    "        # Print the current SNR value for debugging (commented out)\n",
    "        # print(\"snr=\", snr_db)\n",
    "        \n",
    "        # Modulate the message bits to obtain transmitted symbols\n",
    "        transmitted_symbols = mod(msg_bits)  # Modulation: bit stream --> symbols\n",
    "        # print(transmitted_symbols)\n",
    "          \n",
    "        # Pass the transmitted symbols through the AWGN channel to get received symbols\n",
    "        received_symbols,channel_coeff = awgn_mac_with_channel_coeff(transmitted_symbols, snr_db)  # Received symbols: channel output = symbols + noise\n",
    "        # print(\"received\\n\",received_symbols)\n",
    "        \n",
    "        # Demodulate the received symbols to recover the transmitted symbols\n",
    "        demodulated_symbols = demod(received_symbols)  # Demodulation: noisy_symbols --> decoded symbols\n",
    "        # print(\"demodulated\\n\",demodulated_symbols)\n",
    "        \n",
    "        # ber_with_channel_coeff=ber_bpsk_sum_with_fading(msg_bits,demodulated_symbols)\n",
    "        # print(ber_with_channel_coeff)\n",
    "        ber_with_channel_coeff.append(ber_bpsk_sum_with_fading(msg_bits, demodulated_symbols)) \n",
    "        # Demodulate the received symbols to recover the transmitted symbo>\n",
    "        # print(\"\\n\\n\")\n",
    "\n",
    "    return ber_with_channel_coeff   # Return the list of SER values for the given range of SNR values\n",
    "\n",
    "\n",
    "\n",
    "# Define the range of SNR values (in dB) for the simulation\n",
    "snr_db_range = np.arange(0, 12, 1)  # Input for SNR range to plot\n",
    "\n",
    "# Run the simulation to obtain SER for each SNR value\n",
    "ber_bpsk_sum_with_fading=simulate_mac_with_fading(snr_db_range, msg_bits1, no_of_users, no_of_bits)\n",
    "\n",
    "# Print the Bit Error Rate (BER) for each SNR value\n",
    "# print(ber_bpsk_sum_with_channel_coeff)\n",
    " \n",
    "\n",
    "print(ber_bpsk_sum_with_fading)"
   ]
  },
  {
   "cell_type": "code",
   "execution_count": 56,
   "metadata": {},
   "outputs": [
    {
     "data": {
      "image/png": "[encoded data removed]",
      "text/plain": [
       "<Figure size 640x480 with 1 Axes>"
      ]
     },
     "metadata": {},
     "output_type": "display_data"
    }
   ],
   "source": [
    "# Convert SNR values from dB to linear scale\n",
    "snr_lin = 10**(snr_db_range / 10)  # SNR in linear scale\n",
    "\n",
    "\n",
    "# Plot the simulated BER values\n",
    "plt.semilogy(snr_lin, ber_bpsk_sum_with_fading, linestyle='-', color=\"g\", label='simulated')\n",
    "\n",
    "#theoritical values\n",
    "# plt.semilogy(snr_lin,1/((1*snr_lin)), linestyle='--', color=\"r\", label='theoritical')\n",
    "\n",
    "plt.xlabel(\"SNR linear\")  \n",
    "plt.ylabel(\"log(BER)\")       \n",
    "plt.legend()         \n",
    "plt.title(\"BPSK Two Users\") \n",
    "# plt.grid(True)\n",
    "plt.show()\n"
   ]
  }
 ],
 "metadata": {
  "kernelspec": {
   "display_name": "Python 3",
   "language": "python",
   "name": "python3"
  },
  "language_info": {
   "codemirror_mode": {
    "name": "ipython",
    "version": 3
   },
   "file_extension": ".py",
   "mimetype": "text/x-python",
   "name": "python",
   "nbconvert_exporter": "python",
   "pygments_lexer": "ipython3",
   "version": "3.8.10"
  }
 },
 "nbformat": 4,
 "nbformat_minor": 2
}
