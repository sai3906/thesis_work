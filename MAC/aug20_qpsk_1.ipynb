{
 "cells": [
  {
   "cell_type": "code",
   "execution_count": 34,
   "metadata": {},
   "outputs": [],
   "source": [
    "import numpy as np\n",
    "import  matplotlib.pyplot as plt\n",
    "from scipy import special as sp\n"
   ]
  },
  {
   "cell_type": "code",
   "execution_count": 58,
   "metadata": {},
   "outputs": [
    {
     "name": "stdout",
     "output_type": "stream",
     "text": [
      "[[1 1 0 1 0 0 1 1]\n",
      " [0 0 0 1 1 0 1 1]]\n",
      "Bits from columns 0 to 1 in row: [1 1]\n",
      "Bits from columns 2 to 3 in row: [0 1]\n",
      "Bits from columns 4 to 5 in row: [0 0]\n",
      "Bits from columns 6 to 7 in row: [1 1]\n",
      "Bits from columns 0 to 1 in row: [0 0]\n",
      "Bits from columns 2 to 3 in row: [0 1]\n",
      "Bits from columns 4 to 5 in row: [1 0]\n",
      "Bits from columns 6 to 7 in row: [1 1]\n"
     ]
    }
   ],
   "source": [
    "bits=np.array([[1,1,0,1,0,0,1,1],[0,0,0,1,1,0,1,1]])\n",
    "print(bits)\n",
    "import numpy as np\n",
    "\n",
    "# Iterate over each row\n",
    "for row in bits:\n",
    "    # Iterate through pairs of bits in the current row\n",
    "    for i in range(0, len(row), 2):\n",
    "        pair = row[i:i+2]\n",
    "        print(f\"Bits from columns {i} to {i+1} in row: {pair}\")\n"
   ]
  },
  {
   "cell_type": "code",
   "execution_count": 52,
   "metadata": {},
   "outputs": [
    {
     "name": "stdout",
     "output_type": "stream",
     "text": [
      "[[1 1 0 1 0 0 1 1]\n",
      " [0 0 0 1 1 0 1 1]]\n"
     ]
    },
    {
     "ename": "TypeError",
     "evalue": "unhashable type: 'numpy.ndarray'",
     "output_type": "error",
     "traceback": [
      "\u001b[0;31m---------------------------------------------------------------------------\u001b[0m",
      "\u001b[0;31mTypeError\u001b[0m                                 Traceback (most recent call last)",
      "Cell \u001b[0;32mIn[52], line 14\u001b[0m\n\u001b[1;32m     12\u001b[0m \u001b[38;5;28;01mfor\u001b[39;00m i \u001b[38;5;129;01min\u001b[39;00m \u001b[38;5;28mrange\u001b[39m(\u001b[38;5;241m0\u001b[39m,\u001b[38;5;28mlen\u001b[39m(bits),\u001b[38;5;241m2\u001b[39m):\n\u001b[1;32m     13\u001b[0m     bit_pair\u001b[38;5;241m=\u001b[39m(bits[[i]],bits[[i\u001b[38;5;241m+\u001b[39m\u001b[38;5;241m1\u001b[39m]])\n\u001b[0;32m---> 14\u001b[0m     symbols\u001b[38;5;241m=\u001b[39mnp\u001b[38;5;241m.\u001b[39mappend(symbols,\u001b[43mmapping\u001b[49m\u001b[43m[\u001b[49m\u001b[43mbit_pair\u001b[49m\u001b[43m]\u001b[49m)\n\u001b[1;32m     15\u001b[0m \u001b[38;5;66;03m#print(\"mod\",modulated_bits)\u001b[39;00m\n\u001b[1;32m     16\u001b[0m symbols\n",
      "\u001b[0;31mTypeError\u001b[0m: unhashable type: 'numpy.ndarray'"
     ]
    }
   ],
   "source": [
    "bits=np.array([[1,1,0,1,0,0,1,1],[0,0,0,1,1,0,1,1]])\n",
    "print(bits)\n",
    "#print(a)\n",
    "mapping = {\n",
    "    (0,0):1+1j,\n",
    "    (0,1):-1+1j,\n",
    "    (1,0):1-1j,\n",
    "    (1,1):-1-1j\n",
    "}\n",
    "#modulation\n",
    "symbols=np.array([])\n",
    "for i in range(0,len(bits),2):\n",
    "    bit_pair=(bits[[i]],bits[[i+1]])\n",
    "    symbols=np.append(symbols,mapping[bit_pair])\n",
    "#print(\"mod\",modulated_bits)\n",
    "symbols\n"
   ]
  },
  {
   "cell_type": "code",
   "execution_count": 36,
   "metadata": {},
   "outputs": [],
   "source": [
    "def qpsk_demod(received_signal):\n",
    "    symbols = {\n",
    "        1 + 1j: (0, 0),\n",
    "        -1 + 1j: (0, 1),\n",
    "        1 - 1j: (1, 0),\n",
    "        -1 - 1j: (1, 1)\n",
    "    }\n",
    "\n",
    "    #demodulation\n",
    "    demodulated_bits=np.array([])\n",
    "    for i in received_signal:\n",
    "        closest_symbol = min(symbols.keys(), key=lambda s: np.abs(i - s))\n",
    "        demodulated_bits=np.append(demodulated_bits,(symbols[closest_symbol]))\n",
    "    #    print(np.array(demodulated_bits))\n",
    "\n",
    "    received_signal1=np.array([int(i)  for i in demodulated_bits])\n",
    "    #converting into int just for appearance\n",
    "    return received_signal1\n"
   ]
  },
  {
   "cell_type": "code",
   "execution_count": 39,
   "metadata": {},
   "outputs": [],
   "source": [
    "def simulate(no_of_users,snr_db):\n",
    "    no_of_bits=16\n",
    "    msg_bits=np.random.randint(0,2,(no_of_users,no_of_bits))\n",
    "    msg_bits\n",
    "\n",
    "\n",
    "    symbols=qpsk_mod(msg_bits)\n",
    "    print(symbols)\n",
    "\n",
    "\n",
    "    signal_sum=np.sum(symbols,axis=0)\n",
    "\n",
    "\n",
    "\n",
    "    snr_lin=10**(snr_db/10)\n",
    "    noise_power=1/snr_lin  \n",
    "\n",
    "\n",
    "    ber=np.array([])\n",
    "    for noispower in noise_power:\n",
    "        noise=np.sqrt(noispower)*np.random.randn(len(signal_sum))\n",
    "        received_symbols=signal_sum+noise\n",
    "        \n",
    "        if no_of_users == 2:\n",
    "            recover_sym = np.where(received_symbols < -1, -2, np.where(received_symbols > 1, 2, 0))\n",
    "        else:\n",
    "            recover_sym = qpsk_demod(received_symbols)\n",
    "            #recover_bits=np.where(recover_sym<0,0,1)\n",
    "        \n",
    "        ser=np.mean(signal_sum!=recover_sym)\n",
    "        ber.append(ser/2 if no_of_users==1 else ser/4)\n",
    "    return ber\n"
   ]
  },
  {
   "cell_type": "code",
   "execution_count": 40,
   "metadata": {},
   "outputs": [
    {
     "ename": "IndexError",
     "evalue": "index 1 is out of bounds for axis 0 with size 1",
     "output_type": "error",
     "traceback": [
      "\u001b[0;31m---------------------------------------------------------------------------\u001b[0m",
      "\u001b[0;31mIndexError\u001b[0m                                Traceback (most recent call last)",
      "Cell \u001b[0;32mIn[40], line 4\u001b[0m\n\u001b[1;32m      1\u001b[0m no_of_users\u001b[38;5;241m=\u001b[39m\u001b[38;5;241m1\u001b[39m\n\u001b[1;32m      2\u001b[0m snr_db\u001b[38;5;241m=\u001b[39mnp\u001b[38;5;241m.\u001b[39marange(\u001b[38;5;241m0\u001b[39m,\u001b[38;5;241m12\u001b[39m,\u001b[38;5;241m1\u001b[39m)\n\u001b[0;32m----> 4\u001b[0m ber1\u001b[38;5;241m=\u001b[39m\u001b[43msimulate\u001b[49m\u001b[43m(\u001b[49m\u001b[43mno_of_users\u001b[49m\u001b[43m,\u001b[49m\u001b[43msnr_db\u001b[49m\u001b[43m)\u001b[49m\n\u001b[1;32m      5\u001b[0m plt\u001b[38;5;241m.\u001b[39msemilogy(snr_db,ber1)\n\u001b[1;32m      7\u001b[0m \u001b[38;5;66;03m#no_of_users=2\u001b[39;00m\n\u001b[1;32m      8\u001b[0m \u001b[38;5;66;03m#ber2=simulate(no_of_users,snr_db)\u001b[39;00m\n\u001b[1;32m      9\u001b[0m \u001b[38;5;66;03m#plt.semilogy(snr_db,ber2)\u001b[39;00m\n",
      "Cell \u001b[0;32mIn[39], line 7\u001b[0m, in \u001b[0;36msimulate\u001b[0;34m(no_of_users, snr_db)\u001b[0m\n\u001b[1;32m      3\u001b[0m msg_bits\u001b[38;5;241m=\u001b[39mnp\u001b[38;5;241m.\u001b[39mrandom\u001b[38;5;241m.\u001b[39mrandint(\u001b[38;5;241m0\u001b[39m,\u001b[38;5;241m2\u001b[39m,(no_of_users,no_of_bits))\n\u001b[1;32m      4\u001b[0m msg_bits\n\u001b[0;32m----> 7\u001b[0m symbols\u001b[38;5;241m=\u001b[39m\u001b[43mqpsk_mod\u001b[49m\u001b[43m(\u001b[49m\u001b[43mmsg_bits\u001b[49m\u001b[43m)\u001b[49m\n\u001b[1;32m      8\u001b[0m \u001b[38;5;28mprint\u001b[39m(symbols)\n\u001b[1;32m     11\u001b[0m signal_sum\u001b[38;5;241m=\u001b[39mnp\u001b[38;5;241m.\u001b[39msum(symbols,axis\u001b[38;5;241m=\u001b[39m\u001b[38;5;241m0\u001b[39m)\n",
      "Cell \u001b[0;32mIn[35], line 13\u001b[0m, in \u001b[0;36mqpsk_mod\u001b[0;34m(bits)\u001b[0m\n\u001b[1;32m     11\u001b[0m symbols\u001b[38;5;241m=\u001b[39mnp\u001b[38;5;241m.\u001b[39marray([])\n\u001b[1;32m     12\u001b[0m \u001b[38;5;28;01mfor\u001b[39;00m i \u001b[38;5;129;01min\u001b[39;00m \u001b[38;5;28mrange\u001b[39m(\u001b[38;5;241m0\u001b[39m,\u001b[38;5;28mlen\u001b[39m(bits),\u001b[38;5;241m2\u001b[39m):\n\u001b[0;32m---> 13\u001b[0m     bit_pair\u001b[38;5;241m=\u001b[39m(bits[i],\u001b[43mbits\u001b[49m\u001b[43m[\u001b[49m\u001b[43mi\u001b[49m\u001b[38;5;241;43m+\u001b[39;49m\u001b[38;5;241;43m1\u001b[39;49m\u001b[43m]\u001b[49m)\n\u001b[1;32m     14\u001b[0m     symbols\u001b[38;5;241m=\u001b[39mnp\u001b[38;5;241m.\u001b[39mappend(symbols,mapping[bit_pair])\n\u001b[1;32m     15\u001b[0m \u001b[38;5;66;03m#print(\"mod\",modulated_bits)\u001b[39;00m\n",
      "\u001b[0;31mIndexError\u001b[0m: index 1 is out of bounds for axis 0 with size 1"
     ]
    }
   ],
   "source": [
    "no_of_users=1\n",
    "snr_db=np.arange(0,12,1)\n",
    "\n",
    "ber1=simulate(no_of_users,snr_db)\n",
    "plt.semilogy(snr_db,ber1)\n",
    "\n",
    "#no_of_users=2\n",
    "#ber2=simulate(no_of_users,snr_db)\n",
    "#plt.semilogy(snr_db,ber2)\n",
    "\n",
    "plt.grid(True, which='both')\n",
    "plt.xlabel(\"SNR\")\n",
    "plt.ylabel(\"BER\")\n",
    "plt.legend(['qpsk'])\n",
    "plt.show()"
   ]
  }
 ],
 "metadata": {
  "kernelspec": {
   "display_name": "Python 3",
   "language": "python",
   "name": "python3"
  },
  "language_info": {
   "codemirror_mode": {
    "name": "ipython",
    "version": 3
   },
   "file_extension": ".py",
   "mimetype": "text/x-python",
   "name": "python",
   "nbconvert_exporter": "python",
   "pygments_lexer": "ipython3",
   "version": "3.8.10"
  }
 },
 "nbformat": 4,
 "nbformat_minor": 2
}
